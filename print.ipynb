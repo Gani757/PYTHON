{
 "cells": [
  {
   "cell_type": "markdown",
   "id": "db37fe9f-f349-4ced-a938-04ec9035d06c",
   "metadata": {},
   "source": [
    "syntax for print>>>print ()"
   ]
  },
  {
   "cell_type": "markdown",
   "id": "231c3e1a-6931-4256-b278-1bc7e1d897d6",
   "metadata": {},
   "source": [
    "numeric"
   ]
  },
  {
   "cell_type": "code",
   "execution_count": 1,
   "id": "242b883d-6ee5-40af-a2f2-edf080c08570",
   "metadata": {},
   "outputs": [
    {
     "name": "stdout",
     "output_type": "stream",
     "text": [
      "23\n"
     ]
    }
   ],
   "source": [
    "a=23\n",
    "print(a)"
   ]
  },
  {
   "cell_type": "markdown",
   "id": "c9ec2bcb-43bf-4743-ae9b-8540ea737ebd",
   "metadata": {},
   "source": [
    "non numeric"
   ]
  },
  {
   "cell_type": "code",
   "execution_count": 5,
   "id": "6d6b2d20-15a5-44bb-abbe-857d285bda9f",
   "metadata": {},
   "outputs": [
    {
     "name": "stdout",
     "output_type": "stream",
     "text": [
      "ahg\n"
     ]
    }
   ],
   "source": [
    "a = \"ahg\"\n",
    "print(a)"
   ]
  },
  {
   "cell_type": "code",
   "execution_count": 7,
   "id": "dac8ece6-d61a-428d-b4e7-0e947a82c8d1",
   "metadata": {},
   "outputs": [
    {
     "name": "stdout",
     "output_type": "stream",
     "text": [
      "my name is : gani and my age is :23\n"
     ]
    }
   ],
   "source": [
    "num = 23\n",
    "name = \"gani\"\n",
    "\n",
    "print(\"my name is : {} and my age is :{}\".format(name,num))"
   ]
  },
  {
   "cell_type": "code",
   "execution_count": null,
   "id": "d373129d-a6a2-45c3-b9ff-4e8d552d8944",
   "metadata": {},
   "outputs": [],
   "source": []
  }
 ],
 "metadata": {
  "kernelspec": {
   "display_name": "Python [conda env:base] *",
   "language": "python",
   "name": "conda-base-py"
  },
  "language_info": {
   "codemirror_mode": {
    "name": "ipython",
    "version": 3
   },
   "file_extension": ".py",
   "mimetype": "text/x-python",
   "name": "python",
   "nbconvert_exporter": "python",
   "pygments_lexer": "ipython3",
   "version": "3.12.7"
  }
 },
 "nbformat": 4,
 "nbformat_minor": 5
}

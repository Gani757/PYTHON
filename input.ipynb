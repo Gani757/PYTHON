{
 "cells": [
  {
   "cell_type": "markdown",
   "id": "432d9315-2a29-49be-ab52-4757b9613e25",
   "metadata": {},
   "source": [
    "# input funtion is used to take values from the user\n",
    "syntax is input()"
   ]
  },
  {
   "cell_type": "code",
   "execution_count": 4,
   "id": "a57d7c0a-5360-47a5-9079-67b23ca9fc0a",
   "metadata": {},
   "outputs": [
    {
     "name": "stdin",
     "output_type": "stream",
     "text": [
      "enter the name: gani\n"
     ]
    },
    {
     "name": "stdout",
     "output_type": "stream",
     "text": [
      "gani\n"
     ]
    }
   ],
   "source": [
    "g= input(\"enter the name:\")\n",
    "print(g)"
   ]
  },
  {
   "cell_type": "code",
   "execution_count": 6,
   "id": "4fef0aaa-373a-4a06-90db-dcad1898ade4",
   "metadata": {},
   "outputs": [
    {
     "name": "stdin",
     "output_type": "stream",
     "text": [
      "enter the age: 23\n"
     ]
    },
    {
     "name": "stdout",
     "output_type": "stream",
     "text": [
      "23\n"
     ]
    }
   ],
   "source": [
    "g= input(\"enter the age:\")\n",
    "print(g)"
   ]
  },
  {
   "cell_type": "code",
   "execution_count": 18,
   "id": "b0b7c030-cdc4-471d-90ba-57234d428905",
   "metadata": {
    "scrolled": true
   },
   "outputs": [
    {
     "name": "stdin",
     "output_type": "stream",
     "text": [
      "enter the age: 45\n"
     ]
    },
    {
     "data": {
      "text/plain": [
       "int"
      ]
     },
     "execution_count": 18,
     "metadata": {},
     "output_type": "execute_result"
    }
   ],
   "source": [
    "g= int(input(\"enter the age:\"))\n",
    "\n",
    "type(g)\n",
    "print \n",
    "\n"
   ]
  },
  {
   "cell_type": "code",
   "execution_count": null,
   "id": "33a070a4-257a-4904-bcfa-11865487a6bd",
   "metadata": {},
   "outputs": [],
   "source": []
  }
 ],
 "metadata": {
  "kernelspec": {
   "display_name": "Python [conda env:base] *",
   "language": "python",
   "name": "conda-base-py"
  },
  "language_info": {
   "codemirror_mode": {
    "name": "ipython",
    "version": 3
   },
   "file_extension": ".py",
   "mimetype": "text/x-python",
   "name": "python",
   "nbconvert_exporter": "python",
   "pygments_lexer": "ipython3",
   "version": "3.12.7"
  }
 },
 "nbformat": 4,
 "nbformat_minor": 5
}

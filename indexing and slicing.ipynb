{
 "cells": [
  {
   "cell_type": "markdown",
   "id": "6dc396c4-8232-4011-9445-37a796e327c9",
   "metadata": {},
   "source": [
    "# indexing \n",
    " Indexing in Python (especially with strings)\n",
    "Indexing means accessing individual elements in a sequence (like a string, list, or tuple) using their position (called an index).\n",
    "\n",
    "Python uses zero-based indexing, which means the first element is at index 0, the second at 1, and so on.\n",
    "\n",
    "Character | j | h | o | n | n | y |  | s | i | n | s\n",
    "Index     | 0 | 1 | 2 | 3 | 4 | 5 | 6 | 7 | 8 | 9 | 10\n",
    "\n",
    "# zero-based indexing\n",
    "syntax >>>>variable[]"
   ]
  },
  {
   "cell_type": "code",
   "execution_count": 8,
   "id": "e7d94dba-9237-4098-bd2e-a38bcd066144",
   "metadata": {},
   "outputs": [
    {
     "data": {
      "text/plain": [
       "'s'"
      ]
     },
     "execution_count": 8,
     "metadata": {},
     "output_type": "execute_result"
    }
   ],
   "source": [
    "m= 'jhonny sins'\n",
    "m[7]"
   ]
  },
  {
   "cell_type": "code",
   "execution_count": 14,
   "id": "7dca4e7a-f6cc-4c65-9a1e-46f527b563c9",
   "metadata": {},
   "outputs": [
    {
     "data": {
      "text/plain": [
       "'3'"
      ]
     },
     "execution_count": 14,
     "metadata": {},
     "output_type": "execute_result"
    }
   ],
   "source": [
    "m= (\"24234\")\n",
    "m[3]"
   ]
  },
  {
   "cell_type": "code",
   "execution_count": 20,
   "id": "3f706b4f-9921-419c-bf79-b4a270e84b00",
   "metadata": {},
   "outputs": [
    {
     "data": {
      "text/plain": [
       "3"
      ]
     },
     "execution_count": 20,
     "metadata": {},
     "output_type": "execute_result"
    }
   ],
   "source": [
    "m= [1,3,345]\n",
    "m[1]"
   ]
  },
  {
   "cell_type": "code",
   "execution_count": 12,
   "id": "5de34415-4e03-4035-b4bc-ab4e74f320da",
   "metadata": {},
   "outputs": [
    {
     "data": {
      "text/plain": [
       "'n'"
      ]
     },
     "execution_count": 12,
     "metadata": {},
     "output_type": "execute_result"
    }
   ],
   "source": [
    "m[-2]"
   ]
  },
  {
   "cell_type": "markdown",
   "id": "38afdca5-b2e4-435a-82de-ef1cb4eab783",
   "metadata": {},
   "source": [
    "# What is Slicing?\n",
    "Slicing is a way to extract a part (a “slice”) of a sequence like a string, list, or tuple.\n",
    "\n",
    "The syntax looks like this:\n",
    "\n",
    "sequence[start:stop:step]\n",
    "\n",
    "\n",
    "start: The index where the slice starts (inclusive)\n",
    "\n",
    "stop: The index where the slice ends (exclusive)\n",
    "\n",
    "step (optional): The amount to jump by (default is 1)\n",
    "\n",
    "🧪 Example with a string:\n",
    "\n",
    "m = \"jhonny sins\"\n",
    "\n",
    "Index\t    0\t1\t2\t3\t4\t5\t6\t7\t8\t9\t10\n",
    "Character\tj\th\to\tn\tn\ty\t\ts\ti\tn\ts\n",
    "\n",
    "✅ Basic Slices\n",
    "\n",
    "m[0:6]      # 'jhonny' (from index 0 up to 5)\n",
    "m[7:]       # 'sins' (from index 7 to the end)\n",
    "m[:6]       # 'jhonny' (start to index 5)\n",
    "m[:]        # 'jhonny sins' (the whole string)\n",
    "\n",
    "🔁 With Steps\n",
    "m[0:6:2]    # 'jon' (every 2nd letter from index 0 to 5)\n",
    "m[::2]      # 'jhnysn' (every 2nd letter in the whole string)\n",
    "\n",
    "🔄 Reverse a String\n",
    "m[::-1]     # 'snis ynnohj' (reverse the string!)"
   ]
  },
  {
   "cell_type": "code",
   "execution_count": 27,
   "id": "d07878c0-13e9-4853-95cc-d0518ac05359",
   "metadata": {},
   "outputs": [
    {
     "data": {
      "text/plain": [
       "'malle'"
      ]
     },
     "execution_count": 27,
     "metadata": {},
     "output_type": "execute_result"
    }
   ],
   "source": [
    "m= \"malles malloi\"\n",
    "m[0:5:1]"
   ]
  },
  {
   "cell_type": "code",
   "execution_count": 33,
   "id": "9b0f008e-875a-4f48-942b-89dfd0e91bb7",
   "metadata": {},
   "outputs": [
    {
     "data": {
      "text/plain": [
       "'malle'"
      ]
     },
     "execution_count": 33,
     "metadata": {},
     "output_type": "execute_result"
    }
   ],
   "source": [
    "m= \"malles malloi\"\n",
    "m[:5:1]"
   ]
  },
  {
   "cell_type": "code",
   "execution_count": 35,
   "id": "da30c5ed-4c7a-4b59-b00d-de56ce5d43a7",
   "metadata": {},
   "outputs": [
    {
     "data": {
      "text/plain": [
       "'malle'"
      ]
     },
     "execution_count": 35,
     "metadata": {},
     "output_type": "execute_result"
    }
   ],
   "source": [
    "m= \"malles malloi\"\n",
    "m[0:5:]"
   ]
  },
  {
   "cell_type": "code",
   "execution_count": 37,
   "id": "ecfdf369-3c42-45f2-a195-73066d3855c9",
   "metadata": {},
   "outputs": [
    {
     "data": {
      "text/plain": [
       "'malles malloi'"
      ]
     },
     "execution_count": 37,
     "metadata": {},
     "output_type": "execute_result"
    }
   ],
   "source": [
    "m= \"malles malloi\"\n",
    "m[::1]"
   ]
  },
  {
   "cell_type": "code",
   "execution_count": 41,
   "id": "4418f20b-2256-4c44-99bf-e324623270c5",
   "metadata": {},
   "outputs": [
    {
     "data": {
      "text/plain": [
       "'iollam sellam'"
      ]
     },
     "execution_count": 41,
     "metadata": {},
     "output_type": "execute_result"
    }
   ],
   "source": [
    "m= \"malles malloi\"\n",
    "m[::-1]"
   ]
  },
  {
   "cell_type": "code",
   "execution_count": 43,
   "id": "fe9ba5bd-6d7f-4eb4-9aef-83b427e7844e",
   "metadata": {},
   "outputs": [
    {
     "data": {
      "text/plain": [
       "'malles malloi'"
      ]
     },
     "execution_count": 43,
     "metadata": {},
     "output_type": "execute_result"
    }
   ],
   "source": [
    "m= \"malles malloi\"\n",
    "m[0::1]"
   ]
  },
  {
   "cell_type": "code",
   "execution_count": 45,
   "id": "67cb91ee-81b4-41ea-8f58-d329180a67ac",
   "metadata": {},
   "outputs": [
    {
     "data": {
      "text/plain": [
       "'mle ali'"
      ]
     },
     "execution_count": 45,
     "metadata": {},
     "output_type": "execute_result"
    }
   ],
   "source": [
    "m= \"malles malloi\"\n",
    "m[::2]"
   ]
  },
  {
   "cell_type": "code",
   "execution_count": null,
   "id": "bd9cdaea-420c-4090-b1df-eba68040686a",
   "metadata": {},
   "outputs": [],
   "source": []
  }
 ],
 "metadata": {
  "kernelspec": {
   "display_name": "Python [conda env:base] *",
   "language": "python",
   "name": "conda-base-py"
  },
  "language_info": {
   "codemirror_mode": {
    "name": "ipython",
    "version": 3
   },
   "file_extension": ".py",
   "mimetype": "text/x-python",
   "name": "python",
   "nbconvert_exporter": "python",
   "pygments_lexer": "ipython3",
   "version": "3.12.7"
  }
 },
 "nbformat": 4,
 "nbformat_minor": 5
}

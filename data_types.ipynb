{
 "cells": [
  {
   "cell_type": "code",
   "execution_count": 3,
   "id": "a1616222-f870-438b-9b1d-a79723cf92e0",
   "metadata": {},
   "outputs": [
    {
     "data": {
      "text/plain": [
       "int"
      ]
     },
     "execution_count": 3,
     "metadata": {},
     "output_type": "execute_result"
    }
   ],
   "source": [
    "s= 34\n",
    "type(s)"
   ]
  },
  {
   "cell_type": "code",
   "execution_count": 5,
   "id": "78d6dbef-a14e-42a7-8684-4be8388dedce",
   "metadata": {},
   "outputs": [
    {
     "data": {
      "text/plain": [
       "float"
      ]
     },
     "execution_count": 5,
     "metadata": {},
     "output_type": "execute_result"
    }
   ],
   "source": [
    "s= 34.8\n",
    "type(s)"
   ]
  },
  {
   "cell_type": "code",
   "execution_count": 7,
   "id": "79250a87-7326-4aec-895a-3cf2a31257c5",
   "metadata": {},
   "outputs": [
    {
     "data": {
      "text/plain": [
       "str"
      ]
     },
     "execution_count": 7,
     "metadata": {},
     "output_type": "execute_result"
    }
   ],
   "source": [
    "s= \"shsd\"\n",
    "type(s)"
   ]
  },
  {
   "cell_type": "code",
   "execution_count": 9,
   "id": "6b0acd3d-c54c-4d45-a230-148bbc96d7eb",
   "metadata": {},
   "outputs": [
    {
     "data": {
      "text/plain": [
       "True"
      ]
     },
     "execution_count": 9,
     "metadata": {},
     "output_type": "execute_result"
    }
   ],
   "source": [
    "s= 34.8\n",
    "bool(s)"
   ]
  },
  {
   "cell_type": "code",
   "execution_count": 13,
   "id": "671c6ada-2b01-4d62-8068-8e8df4c17dc6",
   "metadata": {},
   "outputs": [
    {
     "data": {
      "text/plain": [
       "False"
      ]
     },
     "execution_count": 13,
     "metadata": {},
     "output_type": "execute_result"
    }
   ],
   "source": [
    "s= 0\n",
    "bool(s)"
   ]
  },
  {
   "cell_type": "code",
   "execution_count": 15,
   "id": "24a21f41-64b8-4207-bfb1-e9389fd538f9",
   "metadata": {},
   "outputs": [
    {
     "data": {
      "text/plain": [
       "False"
      ]
     },
     "execution_count": 15,
     "metadata": {},
     "output_type": "execute_result"
    }
   ],
   "source": [
    "s= \"\"\n",
    "bool(s)"
   ]
  },
  {
   "cell_type": "code",
   "execution_count": 19,
   "id": "95f1a731-2e80-4b5f-be8e-29e9f658c4b4",
   "metadata": {},
   "outputs": [
    {
     "data": {
      "text/plain": [
       "True"
      ]
     },
     "execution_count": 19,
     "metadata": {},
     "output_type": "execute_result"
    }
   ],
   "source": [
    "s=\" \" \n",
    "bool(s)"
   ]
  },
  {
   "cell_type": "code",
   "execution_count": 21,
   "id": "53c73202-414a-41bb-8ce1-028ff018e74d",
   "metadata": {},
   "outputs": [
    {
     "data": {
      "text/plain": [
       "str"
      ]
     },
     "execution_count": 21,
     "metadata": {},
     "output_type": "execute_result"
    }
   ],
   "source": [
    "g =\"123\"\n",
    "type(g)"
   ]
  },
  {
   "cell_type": "code",
   "execution_count": 23,
   "id": "fdfd59cc-5e4e-487b-b328-702de1d70be0",
   "metadata": {},
   "outputs": [
    {
     "data": {
      "text/plain": [
       "int"
      ]
     },
     "execution_count": 23,
     "metadata": {},
     "output_type": "execute_result"
    }
   ],
   "source": [
    "g =\"123\"\n",
    "type(int(g))"
   ]
  },
  {
   "cell_type": "code",
   "execution_count": 25,
   "id": "b7e76343-bcb5-4321-bdeb-7543f84d70db",
   "metadata": {},
   "outputs": [
    {
     "data": {
      "text/plain": [
       "3"
      ]
     },
     "execution_count": 25,
     "metadata": {},
     "output_type": "execute_result"
    }
   ],
   "source": [
    "g =\"123\"\n",
    "len(g)"
   ]
  },
  {
   "cell_type": "markdown",
   "id": "8250e35e-791e-4890-864e-1d80f1ed7bb3",
   "metadata": {},
   "source": [
    "# string concatenation"
   ]
  },
  {
   "cell_type": "code",
   "execution_count": 32,
   "id": "79e7d74e-6687-4bf9-a557-87f195b871be",
   "metadata": {},
   "outputs": [
    {
     "name": "stdout",
     "output_type": "stream",
     "text": [
      "honey dillu\n"
     ]
    }
   ],
   "source": [
    "s = \"honey\"\n",
    "d= \"dillu\"\n",
    "print(s +\" \"+ d)"
   ]
  },
  {
   "cell_type": "code",
   "execution_count": 34,
   "id": "43708f27-bb19-4e0d-a1b0-cc72fba224d2",
   "metadata": {},
   "outputs": [
    {
     "data": {
      "text/plain": [
       "'4'"
      ]
     },
     "execution_count": 34,
     "metadata": {},
     "output_type": "execute_result"
    }
   ],
   "source": [
    "str(4)"
   ]
  },
  {
   "cell_type": "code",
   "execution_count": 40,
   "id": "29d550e0-62fb-424c-a71e-13cf7bee231f",
   "metadata": {},
   "outputs": [
    {
     "data": {
      "text/plain": [
       "'honey'"
      ]
     },
     "execution_count": 40,
     "metadata": {},
     "output_type": "execute_result"
    }
   ],
   "source": [
    "str(s)"
   ]
  },
  {
   "cell_type": "code",
   "execution_count": 42,
   "id": "8c59f771-3ba4-48d5-bd26-c36cafb98446",
   "metadata": {},
   "outputs": [
    {
     "data": {
      "text/plain": [
       "'4.45'"
      ]
     },
     "execution_count": 42,
     "metadata": {},
     "output_type": "execute_result"
    }
   ],
   "source": [
    "str(4.45)"
   ]
  },
  {
   "cell_type": "code",
   "execution_count": 44,
   "id": "68d394a5-3420-4fa9-bc93-52aa9ae080ab",
   "metadata": {},
   "outputs": [
    {
     "ename": "SyntaxError",
     "evalue": "invalid decimal literal (3537999753.py, line 1)",
     "output_type": "error",
     "traceback": [
      "\u001b[1;36m  Cell \u001b[1;32mIn[44], line 1\u001b[1;36m\u001b[0m\n\u001b[1;33m    str(34.e.4)\u001b[0m\n\u001b[1;37m          ^\u001b[0m\n\u001b[1;31mSyntaxError\u001b[0m\u001b[1;31m:\u001b[0m invalid decimal literal\n"
     ]
    }
   ],
   "source": [
    "str(34.e.4)"
   ]
  },
  {
   "cell_type": "code",
   "execution_count": null,
   "id": "722ccfb3-e92c-41a3-9d7b-bdade37c0282",
   "metadata": {},
   "outputs": [],
   "source": []
  }
 ],
 "metadata": {
  "kernelspec": {
   "display_name": "Python [conda env:base] *",
   "language": "python",
   "name": "conda-base-py"
  },
  "language_info": {
   "codemirror_mode": {
    "name": "ipython",
    "version": 3
   },
   "file_extension": ".py",
   "mimetype": "text/x-python",
   "name": "python",
   "nbconvert_exporter": "python",
   "pygments_lexer": "ipython3",
   "version": "3.12.7"
  }
 },
 "nbformat": 4,
 "nbformat_minor": 5
}

{
 "cells": [
  {
   "cell_type": "markdown",
   "id": "0a49b6b4-17fa-431c-b1d1-c35f171faa6e",
   "metadata": {},
   "source": [
    "# is the syntax for single line comment\n",
    "   \"\"\" \"\"\"  multi line comment\n",
    "   \n",
    "\"\"\"\n",
    "1st line \n",
    "2st line\n",
    "3st line\n",
    "\"\"\""
   ]
  },
  {
   "cell_type": "markdown",
   "id": "e004239f-19de-4d48-a566-0fb7057f0292",
   "metadata": {},
   "source": [
    "# variables\n",
    "can start with alphbets and underscore\n",
    "cannot start with numbers/digits and special characters\n"
   ]
  },
  {
   "cell_type": "code",
   "execution_count": 4,
   "id": "d0f8af71-f809-4151-8c81-4d2ff3d0a716",
   "metadata": {},
   "outputs": [
    {
     "name": "stdout",
     "output_type": "stream",
     "text": [
      "12\n"
     ]
    }
   ],
   "source": [
    "a = 12\n",
    "print(a)"
   ]
  },
  {
   "cell_type": "code",
   "execution_count": 6,
   "id": "b2892f37-bc43-434c-b5c0-dbf504424716",
   "metadata": {},
   "outputs": [
    {
     "ename": "SyntaxError",
     "evalue": "invalid decimal literal (3227179956.py, line 1)",
     "output_type": "error",
     "traceback": [
      "\u001b[1;36m  Cell \u001b[1;32mIn[6], line 1\u001b[1;36m\u001b[0m\n\u001b[1;33m    1a= 23\u001b[0m\n\u001b[1;37m    ^\u001b[0m\n\u001b[1;31mSyntaxError\u001b[0m\u001b[1;31m:\u001b[0m invalid decimal literal\n"
     ]
    }
   ],
   "source": [
    "1a= 23\n",
    "print(1a)"
   ]
  },
  {
   "cell_type": "code",
   "execution_count": 8,
   "id": "5467fc0e-6202-481d-abc5-f192194b8eaa",
   "metadata": {},
   "outputs": [
    {
     "name": "stdout",
     "output_type": "stream",
     "text": [
      "234\n"
     ]
    }
   ],
   "source": [
    "_12a= 234\n",
    "print(_12a)"
   ]
  },
  {
   "cell_type": "code",
   "execution_count": 10,
   "id": "c641b598-ba04-4ad2-a55f-c67a77c60899",
   "metadata": {},
   "outputs": [
    {
     "ename": "SyntaxError",
     "evalue": "invalid syntax. Maybe you meant '==' or ':=' instead of '='? (1025240679.py, line 1)",
     "output_type": "error",
     "traceback": [
      "\u001b[1;36m  Cell \u001b[1;32mIn[10], line 1\u001b[1;36m\u001b[0m\n\u001b[1;33m    @s= 34\u001b[0m\n\u001b[1;37m     ^\u001b[0m\n\u001b[1;31mSyntaxError\u001b[0m\u001b[1;31m:\u001b[0m invalid syntax. Maybe you meant '==' or ':=' instead of '='?\n"
     ]
    }
   ],
   "source": [
    "@s= 34\n",
    "print(@s)"
   ]
  },
  {
   "cell_type": "markdown",
   "id": "4e2e8e4a-bfb8-4c3c-91b4-a21934eb3b61",
   "metadata": {},
   "source": [
    "*id()--->to check the address of the variable"
   ]
  },
  {
   "cell_type": "code",
   "execution_count": 12,
   "id": "a9658f8e-f7e2-431f-bfad-6d9c2122e7d5",
   "metadata": {},
   "outputs": [
    {
     "data": {
      "text/plain": [
       "140728964296312"
      ]
     },
     "execution_count": 12,
     "metadata": {},
     "output_type": "execute_result"
    }
   ],
   "source": [
    "s=39\n",
    "id(s)"
   ]
  },
  {
   "cell_type": "markdown",
   "id": "734a914d-4d46-4ce0-b8c5-5633f7d8588e",
   "metadata": {},
   "source": [
    "# many values in single variable"
   ]
  },
  {
   "cell_type": "markdown",
   "id": "c5706b21-7c3f-4aab-b486-d2ea3bb7d67b",
   "metadata": {},
   "source": [
    "a=b=c=23\n",
    "print(a,b,c)"
   ]
  },
  {
   "cell_type": "markdown",
   "id": "09976814-2992-439b-a305-2f629ebec675",
   "metadata": {},
   "source": [
    "# many values in multiple varibles"
   ]
  },
  {
   "cell_type": "code",
   "execution_count": 18,
   "id": "2c158743-0d2d-47c2-a54e-7a821a6ddfb1",
   "metadata": {},
   "outputs": [
    {
     "name": "stdout",
     "output_type": "stream",
     "text": [
      "12 13 34\n"
     ]
    }
   ],
   "source": [
    "a,b,c=12,13,34\n",
    "print(a,b,c)"
   ]
  },
  {
   "cell_type": "markdown",
   "id": "da3fc9fa-92b0-4cef-abcd-e0036b1fc0c7",
   "metadata": {},
   "source": [
    "Python only stores latest values"
   ]
  },
  {
   "cell_type": "code",
   "execution_count": 21,
   "id": "132a47be-dee8-4ac7-81ba-c053cba7d315",
   "metadata": {},
   "outputs": [
    {
     "name": "stdout",
     "output_type": "stream",
     "text": [
      "45\n"
     ]
    }
   ],
   "source": [
    "a=12\n",
    "a=45\n",
    "print(a)"
   ]
  },
  {
   "cell_type": "markdown",
   "id": "cb5d4f74-0919-4ebf-9c2b-ff3d8e369f82",
   "metadata": {},
   "source": [
    "# del variable"
   ]
  },
  {
   "cell_type": "code",
   "execution_count": 53,
   "id": "b15bdce7-6a97-47f5-9d78-df6495011ec4",
   "metadata": {},
   "outputs": [],
   "source": [
    "a=\"ghah\"\n",
    "del a"
   ]
  }
 ],
 "metadata": {
  "kernelspec": {
   "display_name": "Python [conda env:base] *",
   "language": "python",
   "name": "conda-base-py"
  },
  "language_info": {
   "codemirror_mode": {
    "name": "ipython",
    "version": 3
   },
   "file_extension": ".py",
   "mimetype": "text/x-python",
   "name": "python",
   "nbconvert_exporter": "python",
   "pygments_lexer": "ipython3",
   "version": "3.12.7"
  }
 },
 "nbformat": 4,
 "nbformat_minor": 5
}

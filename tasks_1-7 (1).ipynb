{
 "cells": [
  {
   "cell_type": "code",
   "execution_count": 450,
   "id": "c924979a-aaf1-4e7f-b6c9-44a419da2a4d",
   "metadata": {},
   "outputs": [
    {
     "name": "stdout",
     "output_type": "stream",
     "text": [
      "20\n"
     ]
    }
   ],
   "source": [
    "a,b,c=2,3,4\n",
    "x=a*b*c-c\n",
    "print(x)"
   ]
  },
  {
   "cell_type": "code",
   "execution_count": 451,
   "id": "624cd89c-06ac-4422-bf0b-3f8dac285ebf",
   "metadata": {},
   "outputs": [
    {
     "name": "stdout",
     "output_type": "stream",
     "text": [
      "569\n"
     ]
    }
   ],
   "source": [
    "a,b,c=5,6,9    #form a digit of numbers (ex: 567 from 5,6,7)\n",
    "x= a*100+b*10+c\n",
    "print(x)\n",
    "\n"
   ]
  },
  {
   "cell_type": "code",
   "execution_count": null,
   "id": "0cdebc7b-9606-42ec-8d41-d15bebf28a82",
   "metadata": {},
   "outputs": [],
   "source": [
    "\n"
   ]
  },
  {
   "cell_type": "code",
   "execution_count": null,
   "id": "71b222ac-1bbe-4e28-b897-dfdc125e66a8",
   "metadata": {},
   "outputs": [],
   "source": [
    "\n",
    "\n"
   ]
  },
  {
   "cell_type": "markdown",
   "id": "55b72bdd-181a-4282-a612-e8d9ad719ba8",
   "metadata": {},
   "source": [
    "***add 1 to 99***"
   ]
  },
  {
   "cell_type": "code",
   "execution_count": 454,
   "id": "0b79f130-9121-404d-8284-8059f123dcbc",
   "metadata": {},
   "outputs": [
    {
     "data": {
      "text/plain": [
       "100"
      ]
     },
     "execution_count": 454,
     "metadata": {},
     "output_type": "execute_result"
    }
   ],
   "source": [
    "n= 99\n",
    "n+1"
   ]
  },
  {
   "cell_type": "markdown",
   "id": "f489d174-4a44-496e-bd24-58ec9ed815ab",
   "metadata": {},
   "source": [
    "***square a number and add 1***"
   ]
  },
  {
   "cell_type": "code",
   "execution_count": 456,
   "id": "4c6f48f9-3601-4bfa-b5e0-054a0fbe7fc4",
   "metadata": {},
   "outputs": [
    {
     "name": "stdout",
     "output_type": "stream",
     "text": [
      "5\n"
     ]
    }
   ],
   "source": [
    "n=2\n",
    "x= n*n+1\n",
    "print(x)"
   ]
  },
  {
   "cell_type": "markdown",
   "id": "af18b952-36ca-4b82-9a44-9dde4e7d88e2",
   "metadata": {},
   "source": [
    "area of the circle = pi.r*2 where r = 2.5,pi=3.14"
   ]
  },
  {
   "cell_type": "code",
   "execution_count": 458,
   "id": "8adec8a0-487b-41e3-8910-858bdea37e8e",
   "metadata": {},
   "outputs": [
    {
     "ename": "SyntaxError",
     "evalue": "invalid decimal literal (996131956.py, line 2)",
     "output_type": "error",
     "traceback": [
      "\u001b[1;36m  Cell \u001b[1;32mIn[458], line 2\u001b[1;36m\u001b[0m\n\u001b[1;33m    8pi=3.14\u001b[0m\n\u001b[1;37m    ^\u001b[0m\n\u001b[1;31mSyntaxError\u001b[0m\u001b[1;31m:\u001b[0m invalid decimal literal\n"
     ]
    }
   ],
   "source": [
    "r = 2.5\n",
    "8pi=3.14\n",
    "\n",
    "x=pi*r*r\n",
    "print(x)\n"
   ]
  },
  {
   "cell_type": "code",
   "execution_count": null,
   "id": "838cefb6-a2fd-400e-a24d-716332dda180",
   "metadata": {},
   "outputs": [],
   "source": [
    "f=2.5\n",
    "l=100\n",
    "f*l\n"
   ]
  },
  {
   "cell_type": "code",
   "execution_count": null,
   "id": "8aa26e45-9233-414e-b23b-208b7a2ee75a",
   "metadata": {},
   "outputs": [],
   "source": [
    "a=4\n",
    "b=2.0\n",
    "a*b"
   ]
  },
  {
   "cell_type": "markdown",
   "id": "de9e45e4-f53a-4ecc-9b2b-099cadea8461",
   "metadata": {},
   "source": [
    "TAKESS string and return it reverse"
   ]
  },
  {
   "cell_type": "code",
   "execution_count": null,
   "id": "59837241-9b79-4041-8a09-ec9192b34ce9",
   "metadata": {},
   "outputs": [],
   "source": [
    "a=\"gani\"\n",
    "print(a[::-1])"
   ]
  },
  {
   "cell_type": "markdown",
   "id": "c5ee02e3-8ade-4f39-82a1-0d94d399ec1f",
   "metadata": {},
   "source": [
    "polindrom : if the name/value reversed it shuld be same"
   ]
  },
  {
   "cell_type": "code",
   "execution_count": null,
   "id": "a21b00f7-c651-4f61-8857-334e1178547a",
   "metadata": {},
   "outputs": [],
   "source": [
    "a=\"madam\"\n",
    "is_reversed= a == a[::-1]\n",
    "print(is_reversed)"
   ]
  },
  {
   "cell_type": "code",
   "execution_count": null,
   "id": "1e560bd9-8a71-4c07-9634-8c2c8674cf0a",
   "metadata": {},
   "outputs": [],
   "source": [
    "g = \"hello bhai\"\n",
    "g.replace( \" \",\"_\")                # .function means method "
   ]
  },
  {
   "cell_type": "code",
   "execution_count": null,
   "id": "6f5760e7-f865-487c-b24b-18c73d90ad27",
   "metadata": {},
   "outputs": [],
   "source": [
    "g = \"lalla\"   # str is stored in g variable\n",
    "g.count(\"l\")   #\"l\" is string count fuction is used to count \"l\""
   ]
  },
  {
   "cell_type": "code",
   "execution_count": null,
   "id": "025bebe7-d1cf-44e0-bdf0-1fe7c7c517c6",
   "metadata": {},
   "outputs": [],
   "source": [
    "g = \"lalla\" \n",
    "g.index(\"l\")    # to find the index number"
   ]
  },
  {
   "cell_type": "code",
   "execution_count": null,
   "id": "3abd0799-833a-4006-bb6a-1a2c07a23d2f",
   "metadata": {},
   "outputs": [],
   "source": [
    "g = \"lalla\" \n",
    "g.upper()"
   ]
  },
  {
   "cell_type": "code",
   "execution_count": null,
   "id": "03eee152-dbed-4f2b-984b-c4c8f4d5d44c",
   "metadata": {},
   "outputs": [],
   "source": [
    "g = \"lalla\" \n",
    "g.lower()"
   ]
  },
  {
   "cell_type": "code",
   "execution_count": null,
   "id": "e4e9f5ac-30a5-4c3e-978a-390e69c4dba8",
   "metadata": {},
   "outputs": [],
   "source": [
    "h=\"hello\"\n",
    "g= \"world\"\n",
    "print(h +\" \"+g)"
   ]
  },
  {
   "cell_type": "code",
   "execution_count": null,
   "id": "18603a02-1426-43a5-9b56-48c915b9f24c",
   "metadata": {},
   "outputs": [],
   "source": [
    "g = \"programming\"\n",
    "g.replace( \"m\",\"\")  "
   ]
  },
  {
   "cell_type": "code",
   "execution_count": null,
   "id": "84bf3a5f-ba9e-4512-a345-f3809f49cbc8",
   "metadata": {},
   "outputs": [],
   "source": [
    "g = \"programming\"\n",
    "g[3:7:1]"
   ]
  },
  {
   "cell_type": "code",
   "execution_count": null,
   "id": "cbf17117-50e9-4bf9-a0bb-bd716402c859",
   "metadata": {},
   "outputs": [],
   "source": [
    "g = \"programming\"\n",
    "len(g)"
   ]
  },
  {
   "cell_type": "code",
   "execution_count": null,
   "id": "79efeecb-305f-48e7-9eb7-17d8941b73dc",
   "metadata": {},
   "outputs": [],
   "source": [
    "g = \"i love the programming\"\n",
    "g.replace(\" \",\"_\")    #var.replace(old_str,new_str)"
   ]
  },
  {
   "cell_type": "code",
   "execution_count": null,
   "id": "6bf8ae71-67fc-4a6f-8904-28dfd5e6da11",
   "metadata": {},
   "outputs": [],
   "source": [
    "g = \" programming \"\n",
    "g.strip()   #strip() function removes leading and trailing spaces"
   ]
  },
  {
   "cell_type": "code",
   "execution_count": null,
   "id": "2ffd4693-38d7-4d5c-91e5-9c6edcd14680",
   "metadata": {},
   "outputs": [],
   "source": [
    "g = \" programming \"\n",
    "g.lstrip()"
   ]
  },
  {
   "cell_type": "code",
   "execution_count": null,
   "id": "e7b694ef-049d-4458-a3d8-ce3f68140551",
   "metadata": {},
   "outputs": [],
   "source": [
    "g = \" programming \"\n",
    "g.rstrip()"
   ]
  },
  {
   "cell_type": "code",
   "execution_count": null,
   "id": "fcd215fe-cef3-49bd-a316-ab374ba8aefe",
   "metadata": {},
   "outputs": [],
   "source": [
    "s = \"hi there\"\n",
    "s.startswith(\"hi\")"
   ]
  },
  {
   "cell_type": "code",
   "execution_count": null,
   "id": "02864071-8169-4f54-ada9-39a6e2da3397",
   "metadata": {},
   "outputs": [],
   "source": [
    "s = \"hi there\"\n",
    "s.endswith(\"hi\")"
   ]
  },
  {
   "cell_type": "code",
   "execution_count": null,
   "id": "7b0fa185-7d67-4a80-8937-a37835a9bd4e",
   "metadata": {},
   "outputs": [],
   "source": [
    "s = \"hi there\"\n",
    "s.capitalize()  #capitalize() it capitalize 1st element only"
   ]
  },
  {
   "cell_type": "code",
   "execution_count": null,
   "id": "6b5a753c-f901-4d3f-a80c-ba5825a4dbc0",
   "metadata": {},
   "outputs": [],
   "source": [
    "s = \"hi there\"\n",
    "s.title()   #capitalize() it capitalize 1st element of every character"
   ]
  },
  {
   "cell_type": "code",
   "execution_count": null,
   "id": "dda6798f-a684-409a-b773-7a3e69761d17",
   "metadata": {},
   "outputs": [],
   "source": [
    "s = [\"my\" , \"name\", \"gani\"]\n",
    "\" \".join(s)  #join function is used to join multiple str to single str"
   ]
  },
  {
   "cell_type": "code",
   "execution_count": null,
   "id": "a9d8ed36-898d-4a96-88e9-ef063c403444",
   "metadata": {},
   "outputs": [],
   "source": [
    "s= \"python is fun\"\n",
    "s.lower().replace(\" \",\"_\")"
   ]
  },
  {
   "cell_type": "code",
   "execution_count": null,
   "id": "e52b0b4a-7c37-4c6a-9d87-c3303c0bb28d",
   "metadata": {},
   "outputs": [],
   "source": [
    "s= \"python is fun\"\n",
    "s.split()"
   ]
  },
  {
   "cell_type": "code",
   "execution_count": null,
   "id": "0f1413bf-0b6e-4df9-897a-907f5a05de85",
   "metadata": {},
   "outputs": [],
   "source": [
    "s= \"python is fun\"\n",
    "x= s.split()   \n",
    "x.reverse()\n",
    "' '.join(x)\n"
   ]
  },
  {
   "cell_type": "code",
   "execution_count": null,
   "id": "0e5c3237-a79d-4eb7-a741-1745d3ce424d",
   "metadata": {},
   "outputs": [],
   "source": [
    "s = \"python is fun\"\n",
    "s.split()        # This splits the string, but you didn’t store the result\n",
    "s.reverse()      # ERROR! You're still calling reverse() on a string!\n",
    "' '.join(s)      # You're joining the original string, not a list\n",
    "\n",
    "\"\"\"🔍 What’s Happening:\n",
    ".split() turns the sentence into a list of words\n",
    "\n",
    ".reverse() flips the list order\n",
    "\n",
    "' '.join() turns the list back into a string\"\"\"\n",
    "\n",
    "## s is still a string, not a list.\n",
    "\n",
    "#  .reverse() only works on lists, not strings.\n",
    "\n",
    "#  s.split() returns a list, but doesn’t change s.\n"
   ]
  },
  {
   "cell_type": "code",
   "execution_count": 6,
   "id": "56c15ea9-5655-4727-b1de-e0ad6cea0323",
   "metadata": {},
   "outputs": [
    {
     "data": {
      "text/plain": [
       "True"
      ]
     },
     "execution_count": 6,
     "metadata": {},
     "output_type": "execute_result"
    }
   ],
   "source": [
    "s = 'bab'\n",
    "s[0]==s[-1]"
   ]
  },
  {
   "cell_type": "code",
   "execution_count": 8,
   "id": "21966b80-b34c-439f-b749-d858cf6d5186",
   "metadata": {},
   "outputs": [
    {
     "data": {
      "text/plain": [
       "'ilv h rgamn'"
      ]
     },
     "execution_count": 8,
     "metadata": {},
     "output_type": "execute_result"
    }
   ],
   "source": [
    "g = \"i love the programming\"\n",
    "g[0: :2]    ## return the even places characters"
   ]
  },
  {
   "cell_type": "code",
   "execution_count": 10,
   "id": "ad97f596-7d28-40b3-8c5c-aae6fd7ca121",
   "metadata": {},
   "outputs": [
    {
     "data": {
      "text/plain": [
       "22"
      ]
     },
     "execution_count": 10,
     "metadata": {},
     "output_type": "execute_result"
    }
   ],
   "source": [
    "g = \"i love the programming\"\n",
    "len(g)  ## return the even places characters"
   ]
  },
  {
   "cell_type": "code",
   "execution_count": 12,
   "id": "a1ee2350-5e22-451e-9700-f01fe441f733",
   "metadata": {},
   "outputs": [
    {
     "data": {
      "text/plain": [
       "['i', 'love', 'the', 'programming']"
      ]
     },
     "execution_count": 12,
     "metadata": {},
     "output_type": "execute_result"
    }
   ],
   "source": [
    "v = \"i love the programming\"\n",
    "v.split()\n"
   ]
  },
  {
   "cell_type": "code",
   "execution_count": 14,
   "id": "176da8f7-05f8-44fa-b6ef-a37470a1031b",
   "metadata": {},
   "outputs": [
    {
     "data": {
      "text/plain": [
       "'womorrot'"
      ]
     },
     "execution_count": 14,
     "metadata": {},
     "output_type": "execute_result"
    }
   ],
   "source": [
    "g = \"tomorrow\"\n",
    "g[-1]+g[1:-1:1]+g[0]"
   ]
  },
  {
   "cell_type": "code",
   "execution_count": 16,
   "id": "3864f0dc-1b21-4493-9442-490d140e5253",
   "metadata": {},
   "outputs": [
    {
     "data": {
      "text/plain": [
       "'t#o#m#o#r#r#o#w'"
      ]
     },
     "execution_count": 16,
     "metadata": {},
     "output_type": "execute_result"
    }
   ],
   "source": [
    "g = \"tomorrow\"\n",
    "\"#\".join(g)"
   ]
  },
  {
   "cell_type": "code",
   "execution_count": 18,
   "id": "624d89a0-810c-43b7-a6fa-3a9be4fe4131",
   "metadata": {},
   "outputs": [
    {
     "data": {
      "text/plain": [
       "2"
      ]
     },
     "execution_count": 18,
     "metadata": {},
     "output_type": "execute_result"
    }
   ],
   "source": [
    "v= \"mississippi\"\n",
    "v.find('s')"
   ]
  },
  {
   "cell_type": "code",
   "execution_count": 20,
   "id": "adcef5cd-549d-45de-a18f-5a5ac19dfbc9",
   "metadata": {},
   "outputs": [
    {
     "data": {
      "text/plain": [
       "' world '"
      ]
     },
     "execution_count": 20,
     "metadata": {},
     "output_type": "execute_result"
    }
   ],
   "source": [
    "n= \"hello world hello\"\n",
    "n.replace(\"hello\",\"\")"
   ]
  },
  {
   "cell_type": "code",
   "execution_count": 22,
   "id": "1d034915-458c-402e-9a86-18b8c467ca8b",
   "metadata": {},
   "outputs": [
    {
     "data": {
      "text/plain": [
       "'hEllOvINE'"
      ]
     },
     "execution_count": 22,
     "metadata": {},
     "output_type": "execute_result"
    }
   ],
   "source": [
    "b= \"HeLLoVine\"\n",
    "b.swapcase()  ##swapcase()  to swap lowercase to uppercase"
   ]
  },
  {
   "cell_type": "code",
   "execution_count": 26,
   "id": "df6d4f2b-71f4-47fa-8e08-8889fd56692d",
   "metadata": {},
   "outputs": [
    {
     "name": "stdin",
     "output_type": "stream",
     "text": [
      " enter the 2 digit number : 54\n"
     ]
    },
    {
     "name": "stdout",
     "output_type": "stream",
     "text": [
      "108\n"
     ]
    }
   ],
   "source": [
    "a= int(input(\" enter the 2 digit number :\"))\n",
    "s= a*2\n",
    "print(s)"
   ]
  },
  {
   "cell_type": "code",
   "execution_count": 30,
   "id": "b6dcea47-83c3-4be7-9d99-bbb711078827",
   "metadata": {},
   "outputs": [
    {
     "name": "stdin",
     "output_type": "stream",
     "text": [
      " enter the 2 digit number : 54\n"
     ]
    },
    {
     "name": "stdout",
     "output_type": "stream",
     "text": [
      "64\n"
     ]
    }
   ],
   "source": [
    "b= int(input(\" enter the 2 digit number :\"))\n",
    "d= b+10\n",
    "print(d)\n"
   ]
  },
  {
   "cell_type": "code",
   "execution_count": 32,
   "id": "edbd3ad0-fb36-4aa7-8f4a-ad5f6616f25a",
   "metadata": {},
   "outputs": [
    {
     "name": "stdin",
     "output_type": "stream",
     "text": [
      "enter the decimal value 5.5\n"
     ]
    },
    {
     "name": "stdout",
     "output_type": "stream",
     "text": [
      "5.5 5\n"
     ]
    }
   ],
   "source": [
    "f= float(input(\"enter the decimal value\"))\n",
    "g=int(f)\n",
    "print(f,\n",
    "      g)"
   ]
  },
  {
   "cell_type": "code",
   "execution_count": null,
   "id": "157a1b96-9f92-4f02-bfe5-8811e3a91bbe",
   "metadata": {},
   "outputs": [],
   "source": [
    "## list[]"
   ]
  },
  {
   "cell_type": "code",
   "execution_count": null,
   "id": "623b7270-6f7d-42b6-885b-e10e640086a4",
   "metadata": {},
   "outputs": [],
   "source": [
    "l=[10,20,30,40,50]\n",
    "print(l[3])\n",
    "l[4]"
   ]
  },
  {
   "cell_type": "code",
   "execution_count": null,
   "id": "d5dcc732-ff55-45b7-ad0b-0c2751306363",
   "metadata": {},
   "outputs": [],
   "source": [
    "l=[10,20,30,40,50]\n",
    "print(max(l))"
   ]
  },
  {
   "cell_type": "code",
   "execution_count": null,
   "id": "3d9c51fd-4233-42c0-909e-f272c69fb41f",
   "metadata": {},
   "outputs": [],
   "source": [
    "l=[10,20,30,40,50]\n",
    "print(min(l))"
   ]
  },
  {
   "cell_type": "code",
   "execution_count": null,
   "id": "c25595af-58ae-4849-9e33-e1c316a1bbc7",
   "metadata": {},
   "outputs": [],
   "source": [
    "s = [\"a\", \"c\", \"b\", \"d\"]\n",
    "s.sort()\n",
    "s.reverse()\n",
    "print(s)\n"
   ]
  },
  {
   "cell_type": "code",
   "execution_count": null,
   "id": "e1a1d939-f625-4d77-aa73-369bf04eb356",
   "metadata": {},
   "outputs": [],
   "source": [
    "#count() used to count the occurance of particular character"
   ]
  },
  {
   "cell_type": "code",
   "execution_count": null,
   "id": "84ae5e1e-76e3-42f6-a2b1-adee9198699d",
   "metadata": {},
   "outputs": [],
   "source": [
    "s = [\"a\", \"c\", \"b\", \"d\",\"s\",\"s\"]\n",
    "s.count(\"s\")"
   ]
  },
  {
   "cell_type": "code",
   "execution_count": null,
   "id": "234c9827-a781-4d33-a12b-2962eb744132",
   "metadata": {},
   "outputs": [],
   "source": [
    "d=[\"violet\", \"yellow\", \"orange\", \"green\"]\n",
    "d.reverse()\n",
    "print(d)"
   ]
  },
  {
   "cell_type": "code",
   "execution_count": null,
   "id": "a3f6b9a1-d5ca-48e8-a52d-60feee9a9d16",
   "metadata": {},
   "outputs": [],
   "source": [
    "p=[\"violet\", \"yellow\", \"orange\", \"green\"]\n",
    "p[0],p[-1]=p[-1],p[0]\n",
    "print(p)"
   ]
  },
  {
   "cell_type": "code",
   "execution_count": null,
   "id": "a9bb0d72-6ad8-4b7c-a7a5-c24303a6bc71",
   "metadata": {},
   "outputs": [],
   "source": [
    "l=[25,30,[26,27,28,\"hello\"],[32,38]]\n",
    "l[2][3]"
   ]
  },
  {
   "cell_type": "code",
   "execution_count": null,
   "id": "6ef3bd59-7c9c-4865-9d42-a7330cd9a364",
   "metadata": {},
   "outputs": [],
   "source": [
    "l=[25,30,[26,27,28,\"hello\"],[32,38]]\n",
    "l[2][1]=43\n",
    "print(l)\n"
   ]
  },
  {
   "cell_type": "code",
   "execution_count": null,
   "id": "504119a7-755e-4b08-bef7-2c643f0cdb75",
   "metadata": {},
   "outputs": [],
   "source": [
    "l=[25,30,[26,27,28,\"hello\"],[32,38]]\n",
    "l[2][1]=43\n",
    "l.insert(-2,\"true\")\n",
    "print(l)"
   ]
  },
  {
   "cell_type": "code",
   "execution_count": null,
   "id": "9bc363c4-e8ba-4d5d-a349-8a113604b3d9",
   "metadata": {},
   "outputs": [],
   "source": [
    "l1=[1,3,5,7,9]\n",
    "l2=[2,4,6,8]\n",
    "l1.sort()\n",
    "l2.sort()               # list concatenation is possileb ##list can't use replace function\n",
    "print(l1+l2)"
   ]
  },
  {
   "cell_type": "code",
   "execution_count": null,
   "id": "e7bffac6-c57a-4183-bf15-46d19d32a651",
   "metadata": {},
   "outputs": [],
   "source": [
    "l=[]\n",
    "n=input(\"enter the fruit name\")\n",
    "l.append(n)\n",
    "print(l)"
   ]
  },
  {
   "cell_type": "code",
   "execution_count": null,
   "id": "acd5a470-cd49-40cd-8f12-5f64c72154f5",
   "metadata": {},
   "outputs": [],
   "source": [
    "j1=\"7093299525\"\n",
    "x=set(j1)  #set() removes the duplicate values\n",
    "print(x)\n"
   ]
  },
  {
   "cell_type": "code",
   "execution_count": null,
   "id": "3bb9820e-6e9e-4978-b99d-0d8153b58b56",
   "metadata": {},
   "outputs": [],
   "source": [
    "a1=[1,3,5,7,9]\n",
    "a2=[2,4,6,8]\n",
    "a1.extent(a2)\n",
    "print(a1)\n"
   ]
  },
  {
   "cell_type": "code",
   "execution_count": null,
   "id": "91244781-8f98-4d16-9755-ee8b339261b5",
   "metadata": {},
   "outputs": [],
   "source": [
    "j1=[1,3,5,7,9]\n",
    "sum(j1)"
   ]
  },
  {
   "cell_type": "code",
   "execution_count": null,
   "id": "aa3d97dc-feb7-46ea-a8ec-cbec40b9491a",
   "metadata": {},
   "outputs": [],
   "source": [
    "j1=\"7093299525\"\n",
    "x=j1.split()\n",
    "print(x)\n",
    "\n"
   ]
  },
  {
   "cell_type": "code",
   "execution_count": null,
   "id": "67c4ebce-3ea6-4ffe-bc29-f492ec7ec099",
   "metadata": {},
   "outputs": [],
   "source": [
    "j1=\"709329 9525\"\n",
    "x=j1.split()\n",
    "print(x)\n",
    "\n"
   ]
  },
  {
   "cell_type": "code",
   "execution_count": null,
   "id": "76ca7cb5-1771-4391-ad2b-cb6a7a5f948a",
   "metadata": {},
   "outputs": [],
   "source": [
    "j1=[\"1\",\"3\",\"5\",\"7\",\"9\"]\n",
    "\" \".join(j1)"
   ]
  },
  {
   "cell_type": "code",
   "execution_count": null,
   "id": "87614c6b-cc21-47b1-935f-08a5b0ad6790",
   "metadata": {},
   "outputs": [],
   "source": [
    "#tuple"
   ]
  },
  {
   "cell_type": "code",
   "execution_count": null,
   "id": "592b6288-b838-4763-83ff-7e808d8fea1f",
   "metadata": {},
   "outputs": [],
   "source": [
    "10+5+3-2"
   ]
  },
  {
   "cell_type": "code",
   "execution_count": null,
   "id": "ec67d224-bef4-42a2-ba0e-cbaafa5354f6",
   "metadata": {},
   "outputs": [],
   "source": [
    "7+3*2-8/4"
   ]
  },
  {
   "cell_type": "code",
   "execution_count": null,
   "id": "73355bde-205c-4424-800d-f0811a0ed768",
   "metadata": {},
   "outputs": [],
   "source": [
    "s=2\n",
    "d=s**3   # ** is the power of \n",
    "print(d)"
   ]
  },
  {
   "cell_type": "code",
   "execution_count": null,
   "id": "fb3a8cff-1814-4599-931e-92d91cdf0c67",
   "metadata": {},
   "outputs": [],
   "source": [
    "10%3   "
   ]
  },
  {
   "cell_type": "code",
   "execution_count": null,
   "id": "dabafb9f-4cad-40e1-a8f9-bbd660bedf88",
   "metadata": {},
   "outputs": [],
   "source": [
    "10//3"
   ]
  },
  {
   "cell_type": "markdown",
   "id": "fe2d0614-44f9-469f-8c5b-89195310e8e9",
   "metadata": {},
   "source": [
    "###| Expression | Meaning                  | Result     |\n",
    "| ---------- | ------------------------ | ---------- |\n",
    "| `10 / 3`   | Normal division          | `3.333...` |\n",
    "| `10 // 3`  | Floor (integer) division | `3`        |\n",
    "| `10 % 3`   | Remainder after division | `1`        |\n"
   ]
  },
  {
   "cell_type": "markdown",
   "id": "c70d54f5-0eca-4921-a70a-ede3ee986e7b",
   "metadata": {},
   "source": [
    "# operator precedence \n",
    " What is BODMAS?\n",
    "BODMAS is a rule for the order of operations in math expressions:\n",
    "\n",
    "B → Brackets\n",
    "\n",
    "O → Orders (powers, roots, i.e., exponents)\n",
    "\n",
    "D → Division\n",
    "\n",
    "M → Multiplication\n",
    "\n",
    "A → Addition\n",
    "\n",
    "S → Subtraction"
   ]
  },
  {
   "cell_type": "markdown",
   "id": "eff11efa-dfdc-4265-90c1-54391c10e88b",
   "metadata": {},
   "source": [
    "# for loop\n",
    "A for loop is used to repeat a block of code for each item in a sequence (like a list, string, or range of numbers).\n",
    "\n",
    "loop : repeat a block of code \n",
    "\n",
    "for: for each item in a sequence\n",
    "\n",
    "sequence: Could be a list, string, or range().\n",
    "\n",
    "\n",
    "\n",
    "for variable in sequence:\n",
    "    # code block (what you want to do with each item)\n"
   ]
  },
  {
   "cell_type": "code",
   "execution_count": null,
   "id": "53d86d15-44d2-4f4c-80d7-0676b51b378b",
   "metadata": {},
   "outputs": [],
   "source": [
    "a=3\n",
    "for i in [2,23]: #loop\n",
    "    s=i+a\n",
    "    for j in [23,44]:  #nested for loop \n",
    "        d=j+s\n",
    "        print(d)\n",
    "       \n",
    "        "
   ]
  },
  {
   "cell_type": "code",
   "execution_count": null,
   "id": "e92833ff-69ff-4593-9995-ebe2df791d83",
   "metadata": {},
   "outputs": [],
   "source": [
    "for i in range(6):      #for each item in a range()\n",
    "    print(i)"
   ]
  },
  {
   "cell_type": "code",
   "execution_count": null,
   "id": "3cad37af-dae2-4a0d-95e3-c7b100e7f215",
   "metadata": {},
   "outputs": [],
   "source": [
    "for i in [1,2,3,4,5]:    #for: for each item in a sequencev(list[])\n",
    "    print(i)"
   ]
  },
  {
   "cell_type": "code",
   "execution_count": null,
   "id": "99a4cf4f-2ef4-4471-90cd-866959e279e0",
   "metadata": {},
   "outputs": [],
   "source": [
    "for i in [\"a\",\"b\",\"c\"]:    #for each item in a list( str )\n",
    "    print(i)"
   ]
  },
  {
   "cell_type": "code",
   "execution_count": null,
   "id": "3289ae3e-e455-420f-bce4-0131b2b428fd",
   "metadata": {},
   "outputs": [],
   "source": [
    "a = \"maths\"          #for each item in a str \n",
    "for i in a:\n",
    "    print(i)"
   ]
  },
  {
   "cell_type": "code",
   "execution_count": null,
   "id": "5588c5ca-3800-4487-b563-e11feced316f",
   "metadata": {},
   "outputs": [],
   "source": [
    "a=\"3647362478\"\n",
    "for i in a:\n",
    "    print(i)"
   ]
  },
  {
   "cell_type": "code",
   "execution_count": null,
   "id": "ad3633d6-7688-4f87-966c-02bc7ac96457",
   "metadata": {},
   "outputs": [],
   "source": [
    "a= (1,2,3,4)     #for each item in a tuple\n",
    "\n",
    "for i in a:\n",
    "    print(i)"
   ]
  },
  {
   "cell_type": "code",
   "execution_count": null,
   "id": "02468cde-0048-43c6-9993-467baa28a98b",
   "metadata": {},
   "outputs": [],
   "source": [
    "a= {1,2,3,4}     #for each item in a set\n",
    "\n",
    "for i in a:\n",
    "    print(i)"
   ]
  },
  {
   "cell_type": "code",
   "execution_count": null,
   "id": "d662d9b5-a469-43c1-86d2-ccc319bca58b",
   "metadata": {},
   "outputs": [],
   "source": [
    "l= {10,20,30,40,10,10} \n",
    "for i in range(10):\n",
    "    l.discard(10)\n",
    "print(l)"
   ]
  },
  {
   "cell_type": "code",
   "execution_count": null,
   "id": "e97b1a8a-e6da-44e1-9ed4-9ec6061ec55e",
   "metadata": {},
   "outputs": [],
   "source": [
    "l= {10,20,30,40,10,10} \n",
    "for i in range(10):\n",
    "    l.discard(10)\n",
    "    print(l)"
   ]
  },
  {
   "cell_type": "code",
   "execution_count": null,
   "id": "4dbcafbe-01a1-411d-b012-beb7bdd20350",
   "metadata": {},
   "outputs": [],
   "source": [
    "l= {10,20,30,40,10,10} \n",
    "for i in range(10):\n",
    "    l.discard(10)\n",
    "    print(i)"
   ]
  },
  {
   "cell_type": "code",
   "execution_count": null,
   "id": "0eb1f1a5-7fe7-4032-86c8-0b97284f5e6a",
   "metadata": {},
   "outputs": [],
   "source": [
    "g = [1,3,34,3,5]\n",
    "for i in g:                    # i = 3 the i=3 i=34 , i=3, i=3\n",
    "    if i==3:                   # checks the statement\n",
    "        print(\"yes you are gani bhai\")\n",
    "print(\"lets go\")"
   ]
  },
  {
   "cell_type": "code",
   "execution_count": null,
   "id": "b03e65f7-f37f-43ae-857b-f18ffc0f42dc",
   "metadata": {},
   "outputs": [],
   "source": [
    "g = [1,3,34,3,5]\n",
    "sum(g)"
   ]
  },
  {
   "cell_type": "code",
   "execution_count": 459,
   "id": "f60c4a9a-9b6b-4803-820b-bd5e57a84e65",
   "metadata": {},
   "outputs": [
    {
     "data": {
      "text/plain": [
       "2"
      ]
     },
     "execution_count": 459,
     "metadata": {},
     "output_type": "execute_result"
    }
   ],
   "source": [
    "d = [1,3,34,3,5]\n",
    "d.count(3)"
   ]
  },
  {
   "cell_type": "code",
   "execution_count": 460,
   "id": "689555fc-7a50-4c77-b6c2-4bbe1b668e36",
   "metadata": {},
   "outputs": [
    {
     "name": "stdin",
     "output_type": "stream",
     "text": [
      "enter the number 55\n"
     ]
    },
    {
     "name": "stdout",
     "output_type": "stream",
     "text": [
      "10\n"
     ]
    }
   ],
   "source": [
    "# using while loop user num is sum\n",
    "n= input(\"enter the number\")\n",
    "x=0\n",
    "s=0\n",
    "while x < len(n):\n",
    "    s= s + (int(n[x]))\n",
    "    x=x+1\n",
    "print(s)\n",
    "    \n",
    "    \n",
    "    \n"
   ]
  },
  {
   "cell_type": "code",
   "execution_count": 473,
   "id": "d1eeebee-25d4-4ced-a4f8-a8a50842d27d",
   "metadata": {},
   "outputs": [
    {
     "name": "stdin",
     "output_type": "stream",
     "text": [
      "enter the number 555\n"
     ]
    },
    {
     "name": "stdout",
     "output_type": "stream",
     "text": [
      "15\n"
     ]
    }
   ],
   "source": [
    "# using for loop, user mobile  num is  sum\n",
    "\n",
    "l=input(\"enter the number\")\n",
    "s=0\n",
    "for i in l:\n",
    "    s=s+int(i)\n",
    "print(s)\n",
    "    \n",
    "    \n",
    "    "
   ]
  },
  {
   "cell_type": "code",
   "execution_count": 475,
   "id": "87c8a169-4925-4f7b-a67f-8a44f45c5022",
   "metadata": {},
   "outputs": [
    {
     "ename": "SyntaxError",
     "evalue": "invalid decimal literal (233179427.py, line 1)",
     "output_type": "error",
     "traceback": [
      "\u001b[1;36m  Cell \u001b[1;32mIn[475], line 1\u001b[1;36m\u001b[0m\n\u001b[1;33m    9a==1\u001b[0m\n\u001b[1;37m    ^\u001b[0m\n\u001b[1;31mSyntaxError\u001b[0m\u001b[1;31m:\u001b[0m invalid decimal literal\n"
     ]
    }
   ],
   "source": [
    "9a==1\n",
    "print(a)"
   ]
  },
  {
   "cell_type": "code",
   "execution_count": null,
   "id": "7543fa9c-f7c5-48e4-b99c-855c7fa509a6",
   "metadata": {},
   "outputs": [],
   "source": []
  },
  {
   "cell_type": "code",
   "execution_count": null,
   "id": "b48e6ab8-f7ae-425e-9315-28c6a89c57fb",
   "metadata": {},
   "outputs": [],
   "source": [
    "// coment"
   ]
  },
  {
   "cell_type": "code",
   "execution_count": 477,
   "id": "cf5eee72-7d14-4da8-83cd-125a6b3c36ae",
   "metadata": {},
   "outputs": [
    {
     "data": {
      "text/plain": [
       "'Hello World'"
      ]
     },
     "execution_count": 477,
     "metadata": {},
     "output_type": "execute_result"
    }
   ],
   "source": [
    "a =\"hello world\"\n",
    "a.title()"
   ]
  },
  {
   "cell_type": "code",
   "execution_count": 479,
   "id": "471c48db-077d-469b-b0bb-8f3681aa3b0c",
   "metadata": {},
   "outputs": [
    {
     "name": "stdout",
     "output_type": "stream",
     "text": [
      "<class 'int'>\n",
      "<class 'str'>\n"
     ]
    }
   ],
   "source": [
    "\n",
    "a=10\n",
    "print(type(a))\n",
    "a =\"hello world\"\n",
    "print(type(a))"
   ]
  },
  {
   "cell_type": "markdown",
   "id": "544a6341-3836-441e-bc97-3931403655a7",
   "metadata": {},
   "source": [
    "✅ Immutable Types (cannot be changed):\n",
    "Type\tExample\n",
    "int \ta = 5\n",
    "float\tb = 3.14\n",
    "str  \ts = \"hello\"\n",
    "tuple\tt = (1, 2, 3)\n",
    "bool\tx = True\n",
    "\n",
    "\n",
    "\n",
    "✅ Mutable Types (can be changed):\n",
    "Type\tExample\n",
    "list\tl = [1, 2, 3]\n",
    "dict\td = {\"a\": 1}\n",
    "set\t    s = {1, 2, 3}\n",
    "\n",
    "\n",
    "✅UNORDER \n",
    "dict\td = {\"a\": 1}\n",
    "set\t    s = {1, 2, 3}\n",
    "\n"
   ]
  },
  {
   "cell_type": "code",
   "execution_count": 481,
   "id": "1f76abaf-e2f5-444c-a56e-cca894ad7143",
   "metadata": {},
   "outputs": [
    {
     "ename": "TypeError",
     "evalue": "'tuple' object does not support item assignment",
     "output_type": "error",
     "traceback": [
      "\u001b[1;31m---------------------------------------------------------------------------\u001b[0m",
      "\u001b[1;31mTypeError\u001b[0m                                 Traceback (most recent call last)",
      "Cell \u001b[1;32mIn[481], line 2\u001b[0m\n\u001b[0;32m      1\u001b[0m a \u001b[38;5;241m=\u001b[39m(\u001b[38;5;241m1\u001b[39m,\u001b[38;5;241m2\u001b[39m,\u001b[38;5;241m3\u001b[39m)\n\u001b[1;32m----> 2\u001b[0m a[\u001b[38;5;241m0\u001b[39m]\u001b[38;5;241m=\u001b[39m\u001b[38;5;241m10\u001b[39m\n\u001b[0;32m      3\u001b[0m \u001b[38;5;28mprint\u001b[39m(a)\n",
      "\u001b[1;31mTypeError\u001b[0m: 'tuple' object does not support item assignment"
     ]
    }
   ],
   "source": [
    "a =(1,2,3)           # tuple() is immutable; values in the variable cannot be changed\n",
    "a[0]=10\n",
    "print(a)"
   ]
  },
  {
   "cell_type": "code",
   "execution_count": 483,
   "id": "1ec4d46f-8420-4606-bbaa-32c26f2af029",
   "metadata": {},
   "outputs": [
    {
     "name": "stdout",
     "output_type": "stream",
     "text": [
      "{3}\n"
     ]
    }
   ],
   "source": [
    "x={1,2,3}\n",
    "y={3,4,5}\n",
    "z=x.intersection(y)\n",
    "print(z)"
   ]
  },
  {
   "cell_type": "code",
   "execution_count": 485,
   "id": "79983f5d-a137-41b9-8bcc-432680fd0f84",
   "metadata": {},
   "outputs": [
    {
     "name": "stdout",
     "output_type": "stream",
     "text": [
      "[1, 2, 3, 4]\n"
     ]
    }
   ],
   "source": [
    "x=[1,2,3]\n",
    "y=x\n",
    "y.append(4)\n",
    "print(x)"
   ]
  },
  {
   "cell_type": "code",
   "execution_count": 489,
   "id": "673bb94f-2be8-4230-824f-43802be1d878",
   "metadata": {},
   "outputs": [
    {
     "ename": "TypeError",
     "evalue": "unsupported operand type(s) for /: 'set' and 'set'",
     "output_type": "error",
     "traceback": [
      "\u001b[1;31m---------------------------------------------------------------------------\u001b[0m",
      "\u001b[1;31mTypeError\u001b[0m                                 Traceback (most recent call last)",
      "Cell \u001b[1;32mIn[489], line 3\u001b[0m\n\u001b[0;32m      1\u001b[0m a\u001b[38;5;241m=\u001b[39m {\u001b[38;5;241m1\u001b[39m,\u001b[38;5;241m2\u001b[39m,\u001b[38;5;241m3\u001b[39m}\n\u001b[0;32m      2\u001b[0m b\u001b[38;5;241m=\u001b[39m{\u001b[38;5;241m2\u001b[39m,\u001b[38;5;241m3\u001b[39m,\u001b[38;5;241m4\u001b[39m}\n\u001b[1;32m----> 3\u001b[0m \u001b[38;5;28mprint\u001b[39m( a \u001b[38;5;241m/\u001b[39m b)\n",
      "\u001b[1;31mTypeError\u001b[0m: unsupported operand type(s) for /: 'set' and 'set'"
     ]
    }
   ],
   "source": [
    "a= {1,2,3}\n",
    "b={2,3,4}\n",
    "print( a / b)"
   ]
  },
  {
   "cell_type": "code",
   "execution_count": 491,
   "id": "9f46603b-968e-4534-b5d8-628c2a44321f",
   "metadata": {},
   "outputs": [
    {
     "name": "stdout",
     "output_type": "stream",
     "text": [
      "True\n"
     ]
    },
    {
     "name": "stderr",
     "output_type": "stream",
     "text": [
      "<>:1: SyntaxWarning: \"is\" with 'str' literal. Did you mean \"==\"?\n",
      "<>:1: SyntaxWarning: \"is\" with 'str' literal. Did you mean \"==\"?\n",
      "C:\\Users\\91709\\AppData\\Local\\Temp\\ipykernel_11140\\1268698805.py:1: SyntaxWarning: \"is\" with 'str' literal. Did you mean \"==\"?\n",
      "  print(\"hello\" is \"hello\")\n"
     ]
    }
   ],
   "source": [
    "print(\"hello\" is \"hello\")\n"
   ]
  },
  {
   "cell_type": "code",
   "execution_count": 493,
   "id": "4984b24c-742b-45d8-a777-c487e99978a8",
   "metadata": {},
   "outputs": [
    {
     "ename": "NameError",
     "evalue": "name 'true' is not defined",
     "output_type": "error",
     "traceback": [
      "\u001b[1;31m---------------------------------------------------------------------------\u001b[0m",
      "\u001b[1;31mNameError\u001b[0m                                 Traceback (most recent call last)",
      "Cell \u001b[1;32mIn[493], line 1\u001b[0m\n\u001b[1;32m----> 1\u001b[0m \u001b[38;5;129;01mnot\u001b[39;00m(true \u001b[38;5;129;01mor\u001b[39;00m false)\n",
      "\u001b[1;31mNameError\u001b[0m: name 'true' is not defined"
     ]
    }
   ],
   "source": [
    "not(true or false)"
   ]
  },
  {
   "cell_type": "code",
   "execution_count": 495,
   "id": "90e548e8-df29-490f-8654-f50586756547",
   "metadata": {},
   "outputs": [
    {
     "data": {
      "text/plain": [
       "True"
      ]
     },
     "execution_count": 495,
     "metadata": {},
     "output_type": "execute_result"
    }
   ],
   "source": [
    "10==10.000000"
   ]
  },
  {
   "cell_type": "code",
   "execution_count": 497,
   "id": "8143d9e1-32db-4a1f-9e36-1e737690b4bd",
   "metadata": {},
   "outputs": [
    {
     "name": "stderr",
     "output_type": "stream",
     "text": [
      "<>:1: SyntaxWarning: \"is not\" with 'int' literal. Did you mean \"!=\"?\n",
      "<>:1: SyntaxWarning: \"is not\" with 'int' literal. Did you mean \"!=\"?\n",
      "C:\\Users\\91709\\AppData\\Local\\Temp\\ipykernel_11140\\3919734364.py:1: SyntaxWarning: \"is not\" with 'int' literal. Did you mean \"!=\"?\n",
      "  10 is not 10\n"
     ]
    },
    {
     "data": {
      "text/plain": [
       "False"
      ]
     },
     "execution_count": 497,
     "metadata": {},
     "output_type": "execute_result"
    }
   ],
   "source": [
    "10 is not 10"
   ]
  },
  {
   "cell_type": "code",
   "execution_count": null,
   "id": "35fc0c67-8606-491b-bad7-f705520d6378",
   "metadata": {},
   "outputs": [],
   "source": []
  },
  {
   "cell_type": "code",
   "execution_count": 500,
   "id": "60787aea-4090-47bc-a6a2-47331e6170e1",
   "metadata": {},
   "outputs": [
    {
     "data": {
      "text/plain": [
       "{3, 4}"
      ]
     },
     "execution_count": 500,
     "metadata": {},
     "output_type": "execute_result"
    }
   ],
   "source": [
    "l=[1,2,5]\n",
    "s=set(range(1,6))\n",
    "s.difference(l)"
   ]
  },
  {
   "cell_type": "code",
   "execution_count": 504,
   "id": "46a7e371-40bf-4442-a652-4cc61380181f",
   "metadata": {},
   "outputs": [
    {
     "name": "stdin",
     "output_type": "stream",
     "text": [
      "enter the fruit name banana\n"
     ]
    },
    {
     "name": "stdout",
     "output_type": "stream",
     "text": [
      "['banana']\n"
     ]
    }
   ],
   "source": [
    "l=[]\n",
    "a=input(\"enter the fruit name\")\n",
    "l.append(a)\n",
    "print(l)"
   ]
  },
  {
   "cell_type": "code",
   "execution_count": 506,
   "id": "d0bbc04e-8222-40b7-aee0-8bc4f57c5b63",
   "metadata": {},
   "outputs": [
    {
     "name": "stdin",
     "output_type": "stream",
     "text": [
      "enter the fruit name mango\n"
     ]
    },
    {
     "name": "stdout",
     "output_type": "stream",
     "text": [
      "5\n"
     ]
    },
    {
     "data": {
      "text/plain": [
       "{'a', 'g', 'm', 'n', 'o'}"
      ]
     },
     "execution_count": 506,
     "metadata": {},
     "output_type": "execute_result"
    }
   ],
   "source": [
    "d=input(\"enter the fruit name\")\n",
    "print(len(set(d)))           #set() duplicates are not accepted\n",
    "set(d)"
   ]
  },
  {
   "cell_type": "code",
   "execution_count": null,
   "id": "1fbf0028-4990-4110-8136-c022a36f9551",
   "metadata": {},
   "outputs": [],
   "source": [
    "l=[]\n",
    "while True:\n",
    "    a=input(\"enter the fruit\")\n",
    "    l.append(a)\n",
    "    if a==\"#\":\n",
    "        break\n",
    "print(l)\n"
   ]
  },
  {
   "cell_type": "markdown",
   "id": "79780e34-1b1d-4b6a-a035-65c1d6e04119",
   "metadata": {},
   "source": [
    "tasks>>>for loop"
   ]
  },
  {
   "cell_type": "code",
   "execution_count": 508,
   "id": "0f214b7f-68ed-4c06-a152-0356aeeabd5f",
   "metadata": {},
   "outputs": [
    {
     "name": "stdout",
     "output_type": "stream",
     "text": [
      "5\n"
     ]
    }
   ],
   "source": [
    "l=[1,2,2]\n",
    "s=0\n",
    "for i in l:   #The variable `i` will take on each value in the list one by one\n",
    "    s=s+i\n",
    "    \n",
    "\n",
    "print(s)"
   ]
  },
  {
   "cell_type": "code",
   "execution_count": 510,
   "id": "701481eb-f163-4ff0-83bd-162e259ddf4f",
   "metadata": {},
   "outputs": [
    {
     "name": "stdout",
     "output_type": "stream",
     "text": [
      "1\n",
      "1\n",
      "1\n",
      "1\n"
     ]
    }
   ],
   "source": [
    "l=[\"a\",\"b\",\"a\",\"c\"]\n",
    "for i in l:\n",
    "    if i=='a':\n",
    "        print(i.count('a'))\n",
    "    elif i=='b':\n",
    "        \n",
    "        print(i.count('b'))\n",
    "    elif i=='c':\n",
    "        print(i.count('c'))"
   ]
  },
  {
   "cell_type": "code",
   "execution_count": 512,
   "id": "77b46215-660b-4aa8-90a2-396c04d0abf9",
   "metadata": {},
   "outputs": [
    {
     "name": "stdout",
     "output_type": "stream",
     "text": [
      "1\n",
      "4\n",
      "9\n",
      "16\n",
      "25\n",
      "36\n",
      "49\n",
      "64\n",
      "81\n"
     ]
    }
   ],
   "source": [
    "\n",
    "for i in range(1,10):\n",
    "    s=i*i\n",
    "    print(s)"
   ]
  },
  {
   "cell_type": "code",
   "execution_count": null,
   "id": "a407f14a-71c9-4496-8b6c-d8ad3cd0a3c5",
   "metadata": {},
   "outputs": [],
   "source": [
    "## Common Python List Functions & Methods\n",
    "| Function / Method | Description                                | Example Usage                 |\n",
    "| ----------------- | ------------------------------------------ | ----------------------------- |\n",
    "| `append(x)`       | Adds `x` at the end of the list            | `lst.append(10)`              |\n",
    "| `insert(i, x)`    | Inserts `x` at index `i`                   | `lst.insert(2, 99)`           |\n",
    "| `remove(x)`       | Removes the first occurrence of `x`        | `lst.remove(5)`               |\n",
    "| `pop()`           | Removes and returns the last item          | `lst.pop()`                   |\n",
    "| `pop(i)`          | Removes and returns item at index `i`      | `lst.pop(1)`                  |\n",
    "| `sort()`          | Sorts the list in ascending order          | `lst.sort()`                  |\n",
    "| `reverse()`       | Reverses the list order                    | `lst.reverse()`               |\n",
    "| `clear()`         | Removes all items from the list            | `lst.clear()`                 |\n",
    "| `index(x)`        | Returns index of first occurrence of `x`   | `lst.index(7)`                |\n",
    "| `count(x)`        | Counts how many times `x` appears          | `lst.count(3)`                |\n",
    "| `len(lst)`        | Returns the number of elements in the list | `len(lst)`                    |\n",
    "| `sum(lst)`        | Returns the sum of numeric list elements   | `sum([1, 2, 3])` → `6`        |\n",
    "| `max(lst)`        | Returns the maximum value in the list      | `max(lst)`                    |\n",
    "| `min(lst)`        | Returns the minimum value in the list      | `min(lst)`                    |\n",
    "| `list()`          | Converts a sequence to a list              | `list(\"abc\") → ['a','b','c']` |\n"
   ]
  },
  {
   "cell_type": "code",
   "execution_count": 544,
   "id": "ef019cc2-9033-4d81-a1bc-8f70df9bd7d5",
   "metadata": {},
   "outputs": [
    {
     "name": "stdout",
     "output_type": "stream",
     "text": [
      "[1, 2, 4, 6, 8, 9, 10]\n"
     ]
    }
   ],
   "source": [
    "g=[1,2,3,4,5,6,7,8,9,10]\n",
    "\n",
    "for i in g:\n",
    "    if (i==3 or i==5 or i==7):\n",
    "        g.remove(i)\n",
    "print(g)\n",
    "\n",
    "\n",
    "         "
   ]
  },
  {
   "cell_type": "code",
   "execution_count": 574,
   "id": "7f9f4436-9e15-401c-8f4a-c090a8dd3d5a",
   "metadata": {},
   "outputs": [
    {
     "name": "stdout",
     "output_type": "stream",
     "text": [
      "[20, 30, 20, 20, 30, -20, 60, 60, -20, -20]\n",
      "[10, 20, 30, 20, 20, 30, 40, 50, -20, 60, 60, -20, -20]\n"
     ]
    }
   ],
   "source": [
    "k=[10,20,30,20,20,30,40,50,-20,60,60,-20,-20]\n",
    "\n",
    "l=[]\n",
    "for i in k:\n",
    "    if (i==20 or i==-20 or i==60 or i==30):\n",
    "        l.append(i)\n",
    "print(l)\n",
    "print(k)"
   ]
  },
  {
   "cell_type": "code",
   "execution_count": 3,
   "id": "fdbe3fa1-03f3-4995-ba74-08437116f28c",
   "metadata": {},
   "outputs": [
    {
     "name": "stdout",
     "output_type": "stream",
     "text": [
      "{2, 4, 6, 8, 10}\n"
     ]
    }
   ],
   "source": [
    "g=[1,2,3,4,5,6,7,8,9,10]\n",
    "k1=[]\n",
    "for i in g:\n",
    "    \n",
    "    if i%2==0:\n",
    "        k1.append(i)\n",
    "print(set(k1))   \n"
   ]
  },
  {
   "cell_type": "code",
   "execution_count": 27,
   "id": "9ca68d01-238b-4dc2-9988-9435f2095955",
   "metadata": {},
   "outputs": [
    {
     "name": "stdout",
     "output_type": "stream",
     "text": [
      "[1, 2, 3, 3, 4, 5]\n"
     ]
    }
   ],
   "source": [
    "s1={1,2,3}\n",
    "s2={3,4,5}\n",
    "d=list(s1)+list(s2)   #as add,remove,replace possible only on  dict,list #explicit conversion from set to list\n",
    "print(d)           # set removes duplicates \n"
   ]
  },
  {
   "cell_type": "code",
   "execution_count": 21,
   "id": "3f1de88e-210c-497a-ac97-5aeeb50fbe56",
   "metadata": {},
   "outputs": [
    {
     "data": {
      "text/plain": [
       "[1, 2, 3, 4, 3, 4, 5, 6]"
      ]
     },
     "execution_count": 21,
     "metadata": {},
     "output_type": "execute_result"
    }
   ],
   "source": [
    "l1=[1,2,3,4]\n",
    "l2=[3,4,5,6]          # Mutable : We can modify values within original object like list[],set(),dict()\n",
    "\n",
    "l1+l2               #add,remove,replace possible only on  dict,list  \n",
    "\n"
   ]
  },
  {
   "cell_type": "code",
   "execution_count": 45,
   "id": "971eac37-e932-4cf1-9b0c-89c40160d7fb",
   "metadata": {},
   "outputs": [
    {
     "name": "stdout",
     "output_type": "stream",
     "text": [
      "prime number\n"
     ]
    }
   ],
   "source": [
    "a1=[2, 3, 5, 7, 11,13]\n",
    "for i in a1:\n",
    "    if i==13:\n",
    "        print(\"prime number\")\n",
    "        "
   ]
  },
  {
   "cell_type": "code",
   "execution_count": 63,
   "id": "e5b6fe46-dd84-40c7-9780-254e561d8a74",
   "metadata": {},
   "outputs": [
    {
     "ename": "SyntaxError",
     "evalue": "invalid syntax (3024803899.py, line 7)",
     "output_type": "error",
     "traceback": [
      "\u001b[1;36m  Cell \u001b[1;32mIn[63], line 7\u001b[1;36m\u001b[0m\n\u001b[1;33m    else:\u001b[0m\n\u001b[1;37m    ^\u001b[0m\n\u001b[1;31mSyntaxError\u001b[0m\u001b[1;31m:\u001b[0m invalid syntax\n"
     ]
    }
   ],
   "source": [
    "d1=[1,2, 3,4, 5,6, 7,8,9,10 ,11,12,13]\n",
    "s1=[]\n",
    "s2=[]\n",
    "for i in d1:\n",
    "    if i%2==0:\n",
    "        s1.append(i)\n",
    "        else:           indentation error               \n",
    "\n",
    "        s2.append(i)\n",
    "print(s1)\n",
    "print(s2)                         "
   ]
  },
  {
   "cell_type": "code",
   "execution_count": 65,
   "id": "4c5ae0b9-f5ec-4823-a348-f7f53e812390",
   "metadata": {},
   "outputs": [
    {
     "name": "stdout",
     "output_type": "stream",
     "text": [
      "{2, 4, 6, 8, 10, 12}\n",
      "{1, 3, 5, 7, 9, 11, 13}\n"
     ]
    }
   ],
   "source": [
    "d1=[1,2, 3,4, 5,6, 7,8,9,10 ,11,12,13]\n",
    "s1=[]\n",
    "s2=[]\n",
    "for i in d1:\n",
    "    if i%2==0:\n",
    "        s1.append(i)\n",
    "    else:\n",
    "        s2.append(i)\n",
    "print(set(s1))\n",
    "print(set(s2))"
   ]
  },
  {
   "cell_type": "code",
   "execution_count": 67,
   "id": "3ab96f86-ba1e-4453-be04-6551f58e38d0",
   "metadata": {},
   "outputs": [
    {
     "name": "stdout",
     "output_type": "stream",
     "text": [
      "{'silent', 'listen', 'enlist'}\n",
      "{'hello'}\n",
      "{'below', 'elbow'}\n",
      "{'evil', 'live', 'vile'}\n"
     ]
    }
   ],
   "source": [
    "words = [\"listen\", \"silent\", \"enlist\", \"hello\", \"below\", \"elbow\", \"vile\", \"evil\", \"live\"]\n",
    "anagram_groups = {}\n",
    "\n",
    "for word in words:\n",
    "    key = ''.join(sorted(word))  # Sorted letters form the key\n",
    "    if key in anagram_groups:\n",
    "        anagram_groups[key].append(word)\n",
    "    else:\n",
    "        anagram_groups[key] = [word]\n",
    "\n",
    "# Print the groups\n",
    "for group in anagram_groups.values():\n",
    "    print(set(group))"
   ]
  },
  {
   "cell_type": "code",
   "execution_count": 147,
   "id": "3ca046c1-745b-4a07-8780-2a1990d6f895",
   "metadata": {},
   "outputs": [
    {
     "name": "stdin",
     "output_type": "stream",
     "text": [
      "enter the num seperate by commas: 1,2,3\n"
     ]
    },
    {
     "name": "stdout",
     "output_type": "stream",
     "text": [
      "{2}\n",
      "{1, 3}\n"
     ]
    }
   ],
   "source": [
    "n1=input(\"enter the num seperate by commas:\")\n",
    "j1=[int(x.strip()) for x in n1.split(',')]   #int(\"1\") removes quotes and returns int value 1 as the values is int in str format\n",
    "s1=[]\n",
    "s2=[]\n",
    "for i in j1:\n",
    "    if i%2==0:\n",
    "        s1.append(i)\n",
    "        \n",
    "    else:\n",
    "        s2.append(i)\n",
    "        \n",
    "print(set(s1))\n",
    "print(set(s2))"
   ]
  },
  {
   "cell_type": "code",
   "execution_count": 121,
   "id": "052d9c5e-a48a-4c4e-8f28-5bc6b470a73a",
   "metadata": {},
   "outputs": [
    {
     "name": "stdin",
     "output_type": "stream",
     "text": [
      "enter the num seperate by commas fg,g,f\n"
     ]
    },
    {
     "data": {
      "text/plain": [
       "['fg', 'g', 'f']"
      ]
     },
     "execution_count": 121,
     "metadata": {},
     "output_type": "execute_result"
    }
   ],
   "source": [
    "n1=input(\"enter the num seperate by commas\")\n",
    "n1.split(',')\n"
   ]
  },
  {
   "cell_type": "code",
   "execution_count": 153,
   "id": "8a293a49-1ebe-47cc-a8b7-6b02ba04827b",
   "metadata": {},
   "outputs": [
    {
     "name": "stdout",
     "output_type": "stream",
     "text": [
      "[1, 2, 3]\n"
     ]
    }
   ],
   "source": [
    "g1= \"1,2,3\"\n",
    "g=[int(x.strip()) for x in g1.split(\",\")]    #coverting str to int using for loop\n",
    "print(g)"
   ]
  },
  {
   "cell_type": "markdown",
   "id": "4ade53dd-a0df-4288-be85-24d6d9f36c0e",
   "metadata": {},
   "source": [
    " ****Convert List of Strings to Integers****\n",
    "numbers = [int(x.strip()) for x in s.split(\",\")]\n",
    "print(numbers)"
   ]
  },
  {
   "cell_type": "code",
   "execution_count": 174,
   "id": "ab51e98f-515d-4d64-bbdb-6159ac233660",
   "metadata": {},
   "outputs": [
    {
     "name": "stdin",
     "output_type": "stream",
     "text": [
      "enter the number sepereated by commas: 1,2,3,4\n"
     ]
    },
    {
     "name": "stdout",
     "output_type": "stream",
     "text": [
      "{1, 2, 3, 4}\n"
     ]
    }
   ],
   "source": [
    "n=input(\"enter the number sepereated by commas:\")\n",
    "s=[int(x.strip()) for x in n.split(\",\")]\n",
    "j1j=[]\n",
    "for i in s:\n",
    "    j1j.append(i)\n",
    "print(set(j1j))\n",
    "    \n",
    "    \n"
   ]
  },
  {
   "cell_type": "code",
   "execution_count": 219,
   "id": "6fc96fbe-17a5-4fb7-9317-8923c81d4df8",
   "metadata": {},
   "outputs": [
    {
     "name": "stdout",
     "output_type": "stream",
     "text": [
      "8\n"
     ]
    }
   ],
   "source": [
    "#index number of 81\n",
    "\n",
    "t=(1,4,9,16,25,36,49,64,81,100)\n",
    "\n",
    "for i in t:\n",
    "    if i==81:\n",
    "        print(t.index(81))\n"
   ]
  },
  {
   "cell_type": "code",
   "execution_count": 2,
   "id": "9fee50b7-e57e-458c-84dc-40418104803f",
   "metadata": {},
   "outputs": [
    {
     "name": "stdout",
     "output_type": "stream",
     "text": [
      "9\n",
      "18\n",
      "27\n",
      "36\n",
      "45\n",
      "54\n",
      "63\n",
      "72\n",
      "81\n",
      "90\n"
     ]
    }
   ],
   "source": [
    "g1=9\n",
    "for i in range(1,11):\n",
    "    print(g1*i)"
   ]
  },
  {
   "cell_type": "code",
   "execution_count": 50,
   "id": "218b6a77-5773-46d8-8abe-1e0f68c8e117",
   "metadata": {},
   "outputs": [
    {
     "name": "stdout",
     "output_type": "stream",
     "text": [
      "55555\n",
      "4444\n",
      "333\n",
      "22\n",
      "1\n"
     ]
    },
    {
     "data": {
      "text/plain": [
       "\"range(5, 0, -1) → counts down: 5, 4, 3, 2, 1\\n\\nstr(i) * i → repeats the digit i, i times\\n\\nstr(5) * 5 → '5' * 5 → '55555'\""
      ]
     },
     "execution_count": 50,
     "metadata": {},
     "output_type": "execute_result"
    }
   ],
   "source": [
    "\n",
    "\n",
    "for i in range(5,0,-1):\n",
    "    print(str(i)*i) \n",
    "    \n",
    "# Explanation:\n",
    "\"\"\"   range(5, 0, -1) → counts down: 5, 4, 3, 2, 1\n",
    "\n",
    "      str(i) * i → repeats the digit i, i times\n",
    "\n",
    "      str(5) * 5 → '5' * 5 → '55555'     \"\"\"\n",
    "\n"
   ]
  },
  {
   "cell_type": "code",
   "execution_count": 79,
   "id": "1fd28e4f-3390-405e-bffe-d0dcea10d2ed",
   "metadata": {},
   "outputs": [
    {
     "name": "stdout",
     "output_type": "stream",
     "text": [
      "55555\n",
      "4444\n",
      "333\n",
      "22\n",
      "1\n"
     ]
    }
   ],
   "source": [
    "\n",
    "for i in range(5,0,-1):\n",
    "    print(str(i)*i)    # #str(i) multiplies the str i times "
   ]
  },
  {
   "cell_type": "code",
   "execution_count": 83,
   "id": "09e23f22-ddfb-48b2-bfc0-07743fd60486",
   "metadata": {},
   "outputs": [
    {
     "name": "stdout",
     "output_type": "stream",
     "text": [
      "40\n",
      "60\n",
      "80\n"
     ]
    }
   ],
   "source": [
    "for i in range(4,9,2):\n",
    "    print(i*10)"
   ]
  },
  {
   "cell_type": "code",
   "execution_count": 85,
   "id": "ac011339-a853-487b-b96e-1d25b4bf1fd6",
   "metadata": {},
   "outputs": [
    {
     "name": "stdout",
     "output_type": "stream",
     "text": [
      "    1\n",
      "   222\n",
      "  33333\n",
      " 4444444\n",
      "555555555\n"
     ]
    }
   ],
   "source": [
    "\"\"\" 2. Number Pyramidl\n",
    "\n",
    "    1\n",
    "   222\n",
    "  33333\n",
    " 4444444\n",
    "555555555\n",
    "✅ Code:  \"\"\"\n",
    "\n",
    "for i in range(1, 6):\n",
    "    spaces = ' ' * (5 - i)\n",
    "    numbers = str(i) * (2 * i - 1)\n",
    "    print(spaces + numbers)\n"
   ]
  },
  {
   "cell_type": "code",
   "execution_count": 103,
   "id": "29445457-26bb-4fa3-ac34-6725595fdd9e",
   "metadata": {},
   "outputs": [
    {
     "name": "stdin",
     "output_type": "stream",
     "text": [
      " enter the year of expiry 5555\n"
     ]
    },
    {
     "name": "stdout",
     "output_type": "stream",
     "text": [
      "valid\n"
     ]
    }
   ],
   "source": [
    "# passport_validity\n",
    "pass_val= input(\" enter the year of expiry\")\n",
    "validity=[ int(pass_val)]\n",
    "for i in validity:\n",
    "    if i>2023:\n",
    "        print(\"valid\")\n",
    "    else:\n",
    "        print(\"invalid\")\n",
    "    "
   ]
  },
  {
   "cell_type": "code",
   "execution_count": 107,
   "id": "25fd3317-a0c6-4e58-b0f2-df1c7621ded2",
   "metadata": {},
   "outputs": [
    {
     "ename": "AttributeError",
     "evalue": "'int' object has no attribute 'index'",
     "output_type": "error",
     "traceback": [
      "\u001b[1;31m---------------------------------------------------------------------------\u001b[0m",
      "\u001b[1;31mAttributeError\u001b[0m                            Traceback (most recent call last)",
      "Cell \u001b[1;32mIn[107], line 3\u001b[0m\n\u001b[0;32m      1\u001b[0m lis\u001b[38;5;241m=\u001b[39m[\u001b[38;5;241m1\u001b[39m,\u001b[38;5;241m2\u001b[39m,\u001b[38;5;241m3\u001b[39m,\u001b[38;5;241m4\u001b[39m,\u001b[38;5;241m5\u001b[39m,\u001b[38;5;241m6\u001b[39m,\u001b[38;5;241m7\u001b[39m,\u001b[38;5;241m8\u001b[39m]\n\u001b[0;32m      2\u001b[0m \u001b[38;5;28;01mfor\u001b[39;00m i \u001b[38;5;129;01min\u001b[39;00m lis:\n\u001b[1;32m----> 3\u001b[0m     \u001b[38;5;28mprint\u001b[39m(i,i\u001b[38;5;241m.\u001b[39mindex(i))\n",
      "\u001b[1;31mAttributeError\u001b[0m: 'int' object has no attribute 'index'"
     ]
    }
   ],
   "source": [
    "lis=[1,2,3,4,5,6,7,8]\n",
    "for i in lis:\n",
    "    print(i,i.index(i))   # 1.index(1)  'int' object has no attribute 'index'\n"
   ]
  },
  {
   "cell_type": "code",
   "execution_count": 109,
   "id": "e69f5db3-9a2e-4234-85c2-1dcba5052ae3",
   "metadata": {},
   "outputs": [
    {
     "name": "stdout",
     "output_type": "stream",
     "text": [
      "1 0\n",
      "2 1\n",
      "3 2\n",
      "4 3\n",
      "5 4\n",
      "6 5\n",
      "7 6\n",
      "8 7\n"
     ]
    }
   ],
   "source": [
    "lis=[1,2,3,4,5,6,7,8]\n",
    "for i in lis:\n",
    "    print(i,lis.index(i)) "
   ]
  },
  {
   "cell_type": "code",
   "execution_count": 117,
   "id": "565645c3-03f4-4bfb-89bd-65f40e81902f",
   "metadata": {},
   "outputs": [
    {
     "name": "stdout",
     "output_type": "stream",
     "text": [
      "[3, 6, 9, 12, 15, 18, 21, 24, 27, 30, 33, 36, 39, 42, 45, 48]\n"
     ]
    }
   ],
   "source": [
    "l=[]\n",
    "for i in range(1,50):\n",
    "    if i%3==0:\n",
    "        l.append(i)\n",
    "        \n",
    "    \n",
    "print(l)"
   ]
  },
  {
   "cell_type": "code",
   "execution_count": 131,
   "id": "503ece14-3556-48e2-84d4-a001a4631190",
   "metadata": {},
   "outputs": [
    {
     "name": "stdin",
     "output_type": "stream",
     "text": [
      "enter the name gasni\n"
     ]
    },
    {
     "name": "stdout",
     "output_type": "stream",
     "text": [
      "GASNI\n",
      "5\n",
      "GASNI\n",
      "5\n",
      "GASNI\n",
      "5\n",
      "GASNI\n",
      "5\n",
      "GASNI\n",
      "5\n"
     ]
    }
   ],
   "source": [
    "name=input(\"enter the name\")\n",
    "\n",
    "for i in name:\n",
    "    print(name.upper())\n",
    "    print(len(name.upper()))\n"
   ]
  },
  {
   "cell_type": "code",
   "execution_count": 49,
   "id": "e774e9e2-884d-408c-9569-1f35cd1fd1a3",
   "metadata": {},
   "outputs": [
    {
     "name": "stdout",
     "output_type": "stream",
     "text": [
      "list of l is [1, 2, 3, 4]\n"
     ]
    }
   ],
   "source": [
    "l=(\"1,2,3,4\")\n",
    "d=[int(x) for x in l.split(',')]\n",
    "print(f\"list of l is {d}\")"
   ]
  },
  {
   "cell_type": "code",
   "execution_count": 152,
   "id": "e909d5a4-ace7-41e1-b5c8-e717c6512f8b",
   "metadata": {
    "scrolled": true
   },
   "outputs": [
    {
     "name": "stdin",
     "output_type": "stream",
     "text": [
      " enter the value seperated by commas: 1,2,3,4\n",
      " enter the value seperated by commas: 3,4,5\n"
     ]
    },
    {
     "data": {
      "text/plain": [
       "{1, 2, 3, 4}"
      ]
     },
     "execution_count": 152,
     "metadata": {},
     "output_type": "execute_result"
    }
   ],
   "source": [
    "d1=input(\" enter the value seperated by commas:\")\n",
    "d2=input(\" enter the value seperated by commas:\")\n",
    "d3=[int(x) for x in l.split(',')]\n",
    "d4=[int(x) for x in l.split(',')]\n",
    "d5=set(d3)\n",
    "d6=set(d4)\n",
    "d5.intersection(d6)\n",
    "    \n",
    "    \n",
    "    \n",
    "\n"
   ]
  },
  {
   "cell_type": "code",
   "execution_count": 164,
   "id": "ed129b1d-0883-4728-98e6-1b58a78c74dd",
   "metadata": {},
   "outputs": [
    {
     "name": "stdout",
     "output_type": "stream",
     "text": [
      "21\n"
     ]
    }
   ],
   "source": [
    "import random\n",
    "for i in range(2):\n",
    "    h=random.randint(1,100)\n",
    "print(h)\n",
    "    "
   ]
  },
  {
   "cell_type": "code",
   "execution_count": 196,
   "id": "ffdb8ed8-5752-4003-82cc-ebe1c28fd9d8",
   "metadata": {},
   "outputs": [
    {
     "name": "stdout",
     "output_type": "stream",
     "text": [
      "3\n",
      "3\n",
      "3\n",
      "3\n",
      "3\n",
      "3\n"
     ]
    }
   ],
   "source": [
    "l=[\"a\",\"b\",\"c\",\"a\",\"a\",\"b\"]\n",
    "for a in l:\n",
    "    print(l.count(\"a\"))"
   ]
  },
  {
   "cell_type": "markdown",
   "id": "37951e66-7ccc-47d7-8a8c-16d3beea179e",
   "metadata": {},
   "source": [
    "if esle>>"
   ]
  },
  {
   "cell_type": "code",
   "execution_count": 218,
   "id": "295d7856-8b29-4447-bea5-6279304821af",
   "metadata": {},
   "outputs": [
    {
     "name": "stdin",
     "output_type": "stream",
     "text": [
      "enter the age -11\n"
     ]
    },
    {
     "name": "stdout",
     "output_type": "stream",
     "text": [
      "enter the correct number\n"
     ]
    }
   ],
   "source": [
    "age=eval(input(\"enter the age\"))\n",
    "if age>=18 and age<=100:\n",
    "    print(\"adult\")\n",
    "elif age<18 and age>0:\n",
    "    print(\"minor\")\n",
    "elif age<=0:\n",
    "    print(\"enter the correct number\")\n",
    "else:\n",
    "    print(\"error\")\n",
    "    \n",
    "    \n",
    "    "
   ]
  },
  {
   "cell_type": "markdown",
   "id": "8ebaecd7-609d-4342-92db-9a0c5cf08d74",
   "metadata": {},
   "source": [
    "if else >>>tasks"
   ]
  },
  {
   "cell_type": "code",
   "execution_count": 291,
   "id": "eb65cc65-e3f4-4001-8212-f778ffed4f35",
   "metadata": {},
   "outputs": [
    {
     "name": "stdout",
     "output_type": "stream",
     "text": [
      "True\n"
     ]
    }
   ],
   "source": [
    "l=[1,2,3,2,1]\n",
    "if l==l[::-1]:\n",
    "    print(bool(l))\n",
    "else:\n",
    "    print(\"error\")\n",
    "    "
   ]
  },
  {
   "cell_type": "code",
   "execution_count": 293,
   "id": "9bd1764f-7108-4126-b7c4-a37c3c3009f5",
   "metadata": {},
   "outputs": [
    {
     "name": "stdout",
     "output_type": "stream",
     "text": [
      "prime\n"
     ]
    }
   ],
   "source": [
    "a=13\n",
    "if a==13:\n",
    "    print(\"prime\")"
   ]
  },
  {
   "cell_type": "code",
   "execution_count": 303,
   "id": "fed68e8a-7fe1-45a2-9299-7bbb730e7f3f",
   "metadata": {},
   "outputs": [
    {
     "name": "stdin",
     "output_type": "stream",
     "text": [
      "enter the month name febraury\n"
     ]
    },
    {
     "name": "stdout",
     "output_type": "stream",
     "text": [
      "no of days : 29 or 28\n"
     ]
    }
   ],
   "source": [
    "month=input(\"enter the month name\")\n",
    "\n",
    "if month in [\"january\",\"march\",\"may\",\"july\",\"agust\",\"octomber\",\"december\"]:\n",
    "    print(month,\" no. of days :31\")\n",
    "elif month in [\"april\",\"june\",\"september\",\"november\"]:\n",
    "    print(\"no.of days:  31\")\n",
    "elif month==\"febraury\":\n",
    "    print(\"no of days : 29 or 28\")\n",
    "else:\n",
    "    print(\"invalid month\")\n",
    "    "
   ]
  },
  {
   "cell_type": "code",
   "execution_count": 351,
   "id": "304106e3-dff3-4a0c-b53a-f43e6c3111a6",
   "metadata": {},
   "outputs": [
    {
     "name": "stdin",
     "output_type": "stream",
     "text": [
      "enter the length 8\n",
      "enter the breath 54\n"
     ]
    },
    {
     "name": "stdout",
     "output_type": "stream",
     "text": [
      " not square\n"
     ]
    }
   ],
   "source": [
    "length=eval(input(\"enter the length\"))\n",
    "breath=eval(input(\"enter the breath\"))\n",
    "\n",
    "if length==breath:\n",
    "    \n",
    "    s_we=length*length\n",
    "    \n",
    "    print(s_we,\":is the square of the number\")\n",
    "else:\n",
    "    print(\" not square\")\n",
    "\n",
    "\n",
    "            "
   ]
  },
  {
   "cell_type": "code",
   "execution_count": 361,
   "id": "c3da5746-cc20-4b69-a809-0cfc0061594f",
   "metadata": {},
   "outputs": [
    {
     "name": "stdin",
     "output_type": "stream",
     "text": [
      "enter the num 445\n",
      "enter the num 4\n"
     ]
    },
    {
     "name": "stdout",
     "output_type": "stream",
     "text": [
      "445  : is the greater\n",
      "smaller\n"
     ]
    }
   ],
   "source": [
    "nc1=eval(input(\"enter the num\"))\n",
    "nc2=eval(input(\"enter the num\"))\n",
    "\n",
    "if nc1>nc2:\n",
    "    print(nc1,\" : is the greater\")\n",
    "\n",
    "if nc2>nc1:\n",
    "    print(nc2,\" : is the greater\")  \n",
    "else:\n",
    "    print(\"smaller\")"
   ]
  },
  {
   "cell_type": "code",
   "execution_count": 388,
   "id": "ecaaddfb-c8dd-4d27-8764-20b6be5e0c55",
   "metadata": {},
   "outputs": [
    {
     "name": "stdin",
     "output_type": "stream",
     "text": [
      "enter the class attend 85\n"
     ]
    },
    {
     "name": "stdout",
     "output_type": "stream",
     "text": [
      "eligible the write the exam\n"
     ]
    }
   ],
   "source": [
    "percentage=eval(input(\"enter the class attend\"))\n",
    "if percentage>28.0 and percentage<100.0:\n",
    "    print(\"eligible the write the exam\")\n",
    "else:\n",
    "    print(\"not eligible\")\n"
   ]
  },
  {
   "cell_type": "code",
   "execution_count": 390,
   "id": "1e548564-c19b-4a1d-bd75-c3d84f7b5baf",
   "metadata": {},
   "outputs": [
    {
     "name": "stdin",
     "output_type": "stream",
     "text": [
      "enter the class attend 88\n"
     ]
    },
    {
     "name": "stdout",
     "output_type": "stream",
     "text": [
      "excellent\n"
     ]
    }
   ],
   "source": [
    "per=eval(input(\"enter the class attend\"))\n",
    "if per<40:\n",
    "    print(\"failed\")\n",
    "elif per<55 and per>=40:\n",
    "    print(\"fair\")\n",
    "elif per<65 and per>=55:\n",
    "    print(\"good\")\n",
    "elif per>=65:\n",
    "    print(\"excellent\")"
   ]
  },
  {
   "cell_type": "code",
   "execution_count": 396,
   "id": "3699a2d9-a8b7-4556-b714-2fef3f031043",
   "metadata": {},
   "outputs": [
    {
     "name": "stdin",
     "output_type": "stream",
     "text": [
      "enter the 1st 55\n",
      "enter the 2nd 55\n",
      "enter the 3rd 55\n"
     ]
    },
    {
     "name": "stdout",
     "output_type": "stream",
     "text": [
      "equilateral\n"
     ]
    }
   ],
   "source": [
    "a=eval(input(\"enter the 1st\"))\n",
    "b=eval(input(\"enter the 2nd\"))\n",
    "c=eval(input(\"enter the 3rd\"))\n",
    "\n",
    "if a==b==c:\n",
    "    print(\"equilateral\")\n",
    "\n",
    "elif a==b!=c:\n",
    "    print(\"isosceless\")\n",
    "\n",
    "elif a!=b!=c:\n",
    "    print(\"scelenes\")\n"
   ]
  },
  {
   "cell_type": "code",
   "execution_count": 11,
   "id": "6836276f-2eab-4cc0-b5d5-c7a2e94996a1",
   "metadata": {},
   "outputs": [
    {
     "name": "stdin",
     "output_type": "stream",
     "text": [
      "enter the marks 90\n",
      "enter the marks 90\n",
      "enter the marks 80\n",
      "enter the marks 89\n"
     ]
    },
    {
     "name": "stdout",
     "output_type": "stream",
     "text": [
      "humanities\n"
     ]
    }
   ],
   "source": [
    "e=eval(input(\"enter the marks\"))\n",
    "m=eval(input(\"enter the marks\"))\n",
    "s=eval(input(\"enter the marks\"))\n",
    "so=eval(input(\"enter the marks\"))\n",
    "\n",
    "if e>80 and m>80 and s>80 and so>80:\n",
    "    \n",
    "    print(\"science stream\")\n",
    "elif e>80 and m<50 and s<50:\n",
    "    \n",
    "    print(\"commerce stream\")\n",
    "elif e>80 and  so>80:\n",
    "    \n",
    "    print(\"humanities\")\n",
    "\n",
    "    \n"
   ]
  },
  {
   "cell_type": "code",
   "execution_count": 17,
   "id": "207e5372-c865-4336-af39-76be38704753",
   "metadata": {},
   "outputs": [
    {
     "name": "stdin",
     "output_type": "stream",
     "text": [
      "enter the score 99\n"
     ]
    },
    {
     "name": "stdout",
     "output_type": "stream",
     "text": [
      "A Grade\n"
     ]
    }
   ],
   "source": [
    "gr=eval(input(\"enter the score\"))\n",
    "if gr>=90 and gr<=100:\n",
    "    print(\"A Grade\")\n",
    "elif gr>=80 and gr<=89:\n",
    "    print(\"B Grade\")\n",
    "elif gr>=70 and gr<=79:\n",
    "    print(\"C Grade\")\n",
    "elif gr>=60 and gr<=69:\n",
    "    print(\"D Grade\")\n",
    "else:\n",
    "    print(\"F Grade\")\n"
   ]
  },
  {
   "cell_type": "code",
   "execution_count": 23,
   "id": "29b6d331-7149-4e1e-9de6-58dd791bbe1b",
   "metadata": {},
   "outputs": [
    {
     "name": "stdin",
     "output_type": "stream",
     "text": [
      "enter the salary 80000\n",
      "enter the no of  experience 6\n"
     ]
    },
    {
     "name": "stdout",
     "output_type": "stream",
     "text": [
      "bonus credited is:  4000.0\n"
     ]
    }
   ],
   "source": [
    "sal=eval(input(\"enter the salary\"))\n",
    "exp=eval(input(\"enter the no of  experience\"))\n",
    "if exp<5:\n",
    "    print(\" no bonus credited\")\n",
    "elif exp>5:\n",
    "    print(\"bonus credited is: \",sal*0.05)"
   ]
  },
  {
   "cell_type": "code",
   "execution_count": 25,
   "id": "7530e1f3-0601-496c-a9ef-59aa655a0372",
   "metadata": {},
   "outputs": [
    {
     "name": "stdin",
     "output_type": "stream",
     "text": [
      "enter the number 8\n",
      "enter the number 5\n",
      "enter the operator *,%,+,- : *\n"
     ]
    },
    {
     "name": "stdout",
     "output_type": "stream",
     "text": [
      "40\n"
     ]
    }
   ],
   "source": [
    "a=eval(input(\"enter the number\"))\n",
    "b=eval(input(\"enter the number\"))\n",
    "op=input(\"enter the operator *,%,+,- :\")\n",
    "\n",
    "if op==\"*\":\n",
    "    print(a*b)\n",
    "elif op==\"%\":\n",
    "    print(a%b)\n",
    "elif op==\"+\":\n",
    "    print(a+b)\n",
    "elif op==\"-\":\n",
    "    print(a-b)"
   ]
  },
  {
   "cell_type": "code",
   "execution_count": 45,
   "id": "47c15b7f-f2f6-44ae-8215-c3fbfa60d7ce",
   "metadata": {},
   "outputs": [
    {
     "name": "stderr",
     "output_type": "stream",
     "text": [
      "<>:2: SyntaxWarning: invalid decimal literal\n",
      "<>:2: SyntaxWarning: invalid decimal literal\n",
      "C:\\Users\\91709\\AppData\\Local\\Temp\\ipykernel_26260\\4191970925.py:2: SyntaxWarning: invalid decimal literal\n",
      "  if age >=18and age<21:\n"
     ]
    },
    {
     "name": "stdin",
     "output_type": "stream",
     "text": [
      "enter the age: 22\n"
     ]
    },
    {
     "name": "stdout",
     "output_type": "stream",
     "text": [
      "dl\n"
     ]
    }
   ],
   "source": [
    "age=eval(input(\"enter the age:\"))\n",
    "if age >=18and age<21:\n",
    "         print(\"eligible to vote \")\n",
    "elif age>=21:\n",
    "    print(\"dl\")\n",
    "else:\n",
    "    print(\"not eligible to vote\")"
   ]
  },
  {
   "cell_type": "code",
   "execution_count": 51,
   "id": "0949a34f-dd2e-48d1-b956-8aa81f42efe3",
   "metadata": {},
   "outputs": [
    {
     "name": "stdin",
     "output_type": "stream",
     "text": [
      "enter the num: 49\n"
     ]
    },
    {
     "name": "stdout",
     "output_type": "stream",
     "text": [
      "divisible by 7\n"
     ]
    }
   ],
   "source": [
    "num=eval(input(\"enter the num:\"))\n",
    "\n",
    "if num%7==0:\n",
    "    print(\"divisible by 7\")\n",
    "else:\n",
    "    print(\"not divisible by 7\")"
   ]
  },
  {
   "cell_type": "code",
   "execution_count": 65,
   "id": "eba7cf0c-478a-442d-b09a-9506d7065dd2",
   "metadata": {},
   "outputs": [
    {
     "name": "stdin",
     "output_type": "stream",
     "text": [
      "enter the num: 67\n"
     ]
    },
    {
     "name": "stdout",
     "output_type": "stream",
     "text": [
      "1\n"
     ]
    }
   ],
   "source": [
    "num=eval(input(\"enter the num:\"))\n",
    "\n",
    "if num>0:\n",
    "    print(num%3)"
   ]
  },
  {
   "cell_type": "code",
   "execution_count": 71,
   "id": "759efe74-4ec3-411b-931d-ca90d0ba654a",
   "metadata": {},
   "outputs": [
    {
     "name": "stdin",
     "output_type": "stream",
     "text": [
      "enter the age: 85\n",
      "enter the age: 45\n",
      "enter the age: 84\n",
      "enter the age: 54\n"
     ]
    },
    {
     "name": "stdout",
     "output_type": "stream",
     "text": [
      "45 younger\n"
     ]
    }
   ],
   "source": [
    "age1=eval(input(\"enter the age:\"))\n",
    "age2=eval(input(\"enter the age:\"))\n",
    "age3=eval(input(\"enter the age:\"))\n",
    "age4=eval(input(\"enter the age:\"))\n",
    "\n",
    "if age1<age2 and age1<age3 and age1<age4:\n",
    "    print(age1,\"younger\")\n",
    "elif age2<age3 and age2<age4:\n",
    "    print(age2,\"younger\")\n",
    "elif age3<age4:\n",
    "    print(age3,\"younger\")\n",
    "else:\n",
    "    print(age4,\"younger\")\n",
    "\n",
    "\n"
   ]
  },
  {
   "cell_type": "code",
   "execution_count": 75,
   "id": "3059ca2e-d7fc-4389-889e-50523d769272",
   "metadata": {},
   "outputs": [
    {
     "name": "stdin",
     "output_type": "stream",
     "text": [
      "enter the num: 18\n"
     ]
    },
    {
     "name": "stdout",
     "output_type": "stream",
     "text": [
      "divisible by both\n"
     ]
    }
   ],
   "source": [
    "num_d=eval(input(\"enter the num:\"))\n",
    "\n",
    "if num_d%2==0 and num_d%3==0:\n",
    "    print(\"divisible by both\")\n",
    "else:\n",
    "    print(\"not divisible\")"
   ]
  },
  {
   "cell_type": "code",
   "execution_count": 93,
   "id": "9282ee84-9658-4f4d-b8c8-6538621335ec",
   "metadata": {},
   "outputs": [
    {
     "name": "stdout",
     "output_type": "stream",
     "text": [
      "false\n"
     ]
    }
   ],
   "source": [
    "l=[1,\"abc\",1,\"abc\"]\n",
    "if l==l[::-1]:\n",
    "    print(\"true\") \n",
    "else:\n",
    "    print(\"false\")"
   ]
  },
  {
   "cell_type": "code",
   "execution_count": 97,
   "id": "c17fc8ec-352f-4145-909a-be2a30ee10ef",
   "metadata": {},
   "outputs": [
    {
     "name": "stdin",
     "output_type": "stream",
     "text": [
      "enter the day of the week: monday\n"
     ]
    },
    {
     "name": "stdout",
     "output_type": "stream",
     "text": [
      "weekday\n"
     ]
    }
   ],
   "source": [
    "s=input(\"enter the day of the week:\")\n",
    "if s in [\"saturday\",\"sunday\"]:\n",
    "    print(\"weekend\")\n",
    "else:\n",
    "    print(\"weekday\")\n",
    "    "
   ]
  },
  {
   "cell_type": "code",
   "execution_count": 135,
   "id": "65931c87-cf28-4745-b487-49d4da01806f",
   "metadata": {},
   "outputs": [
    {
     "name": "stdin",
     "output_type": "stream",
     "text": [
      "enter the num: 5\n"
     ]
    },
    {
     "name": "stdout",
     "output_type": "stream",
     "text": [
      "20\n"
     ]
    }
   ],
   "source": [
    "n=input(\"enter the num:\")\n",
    "d=[int(x) for x in n.split()]\n",
    "for i in d:\n",
    "    fac=i*(i-1)\n",
    "    print(fac)\n",
    "    "
   ]
  },
  {
   "cell_type": "code",
   "execution_count": null,
   "id": "ad8dca33-4cd2-40b5-a2d4-84f64c6be74d",
   "metadata": {},
   "outputs": [],
   "source": []
  },
  {
   "cell_type": "code",
   "execution_count": 42,
   "id": "a3f01093-a6af-4941-8432-81dad2168ccd",
   "metadata": {},
   "outputs": [
    {
     "name": "stdin",
     "output_type": "stream",
     "text": [
      "enter the number: 8\n"
     ]
    },
    {
     "name": "stdout",
     "output_type": "stream",
     "text": [
      "factorial of 8 is 40320\n"
     ]
    }
   ],
   "source": [
    "n=input(\"enter the number:\")    # e.g., 5 3 4\n",
    "d=[int(x) for x in n.split()]\n",
    "\n",
    "for i in d:\n",
    "    fact=1\n",
    "    for j in range(1,i+1):\n",
    "        fact*=j\n",
    "    print(f\"factorial of {i} is {fact}\")  #syntax to print format is print(f\" ....{var}\")\n",
    "        "
   ]
  },
  {
   "cell_type": "code",
   "execution_count": null,
   "id": "61afcd9d-c303-4105-b60a-cbc7368418bd",
   "metadata": {},
   "outputs": [],
   "source": []
  },
  {
   "cell_type": "code",
   "execution_count": null,
   "id": "0068e0fe-c356-4393-8a8d-214abe3f7b00",
   "metadata": {},
   "outputs": [],
   "source": []
  },
  {
   "cell_type": "code",
   "execution_count": null,
   "id": "c82edbd0-0dc3-442d-9cb7-a63ed270439c",
   "metadata": {},
   "outputs": [],
   "source": []
  },
  {
   "cell_type": "code",
   "execution_count": null,
   "id": "f3b996e2-e334-4cfa-b032-80ff0afac027",
   "metadata": {},
   "outputs": [],
   "source": []
  },
  {
   "cell_type": "code",
   "execution_count": null,
   "id": "ba979017-26a2-4a7b-9376-a6839a6fdd0b",
   "metadata": {},
   "outputs": [],
   "source": []
  },
  {
   "cell_type": "code",
   "execution_count": null,
   "id": "f5a7ebb6-34cb-440c-a6ad-e411493a2db0",
   "metadata": {},
   "outputs": [],
   "source": []
  },
  {
   "cell_type": "code",
   "execution_count": null,
   "id": "ff811f7d-c614-4874-9e94-569f3f919c62",
   "metadata": {},
   "outputs": [],
   "source": []
  },
  {
   "cell_type": "code",
   "execution_count": null,
   "id": "f7476b77-37bc-4ed2-8032-1541c485475e",
   "metadata": {},
   "outputs": [],
   "source": []
  },
  {
   "cell_type": "code",
   "execution_count": null,
   "id": "2ecc63f0-5831-43eb-bf8e-cfc26e5af6c6",
   "metadata": {},
   "outputs": [],
   "source": []
  },
  {
   "cell_type": "code",
   "execution_count": null,
   "id": "0150690d-97f5-4833-a723-87bb0187b38b",
   "metadata": {},
   "outputs": [],
   "source": []
  },
  {
   "cell_type": "code",
   "execution_count": null,
   "id": "aa0a4176-9146-47f6-aa6d-0e3e8f3dcb12",
   "metadata": {},
   "outputs": [],
   "source": []
  },
  {
   "cell_type": "code",
   "execution_count": null,
   "id": "08088dcb-e686-44c7-96f8-2caeb8a98f9f",
   "metadata": {},
   "outputs": [],
   "source": []
  },
  {
   "cell_type": "code",
   "execution_count": null,
   "id": "a5d27c06-f074-4758-8212-aa20cad6b18b",
   "metadata": {},
   "outputs": [],
   "source": []
  },
  {
   "cell_type": "code",
   "execution_count": null,
   "id": "dba1e1d1-881c-47d3-a52f-d4d615950cfb",
   "metadata": {},
   "outputs": [],
   "source": []
  },
  {
   "cell_type": "code",
   "execution_count": null,
   "id": "08e34878-fbd9-4a6a-ba14-b901f71c162f",
   "metadata": {},
   "outputs": [],
   "source": []
  },
  {
   "cell_type": "code",
   "execution_count": null,
   "id": "42795df2-3ed8-4af3-bdf7-fc250b01228c",
   "metadata": {},
   "outputs": [],
   "source": []
  },
  {
   "cell_type": "code",
   "execution_count": null,
   "id": "812f30f7-c2d8-4e31-911f-3a612a91bca9",
   "metadata": {},
   "outputs": [],
   "source": []
  },
  {
   "cell_type": "code",
   "execution_count": null,
   "id": "cda696fd-e9c7-47c7-9bce-2a0b431a8d3e",
   "metadata": {},
   "outputs": [],
   "source": []
  },
  {
   "cell_type": "code",
   "execution_count": null,
   "id": "77336e8a-231a-4bd4-8699-3f795727befd",
   "metadata": {},
   "outputs": [],
   "source": []
  },
  {
   "cell_type": "code",
   "execution_count": null,
   "id": "2db6f2ee-4efd-4591-9fcb-f2093500768c",
   "metadata": {},
   "outputs": [],
   "source": []
  },
  {
   "cell_type": "code",
   "execution_count": null,
   "id": "47b097c0-e0b5-4941-94d1-f815fcc8edc6",
   "metadata": {},
   "outputs": [],
   "source": []
  },
  {
   "cell_type": "code",
   "execution_count": null,
   "id": "40dd7242-8e9a-4a82-9f10-b442012618e3",
   "metadata": {},
   "outputs": [],
   "source": []
  },
  {
   "cell_type": "code",
   "execution_count": null,
   "id": "36398342-99f3-40a3-9e88-85c1ea8fd871",
   "metadata": {},
   "outputs": [],
   "source": []
  },
  {
   "cell_type": "code",
   "execution_count": null,
   "id": "950f5a08-4f9b-4bb8-8df0-39116a4fca60",
   "metadata": {},
   "outputs": [],
   "source": []
  },
  {
   "cell_type": "code",
   "execution_count": null,
   "id": "d1c59978-0da5-489e-86da-b1f1b21d469f",
   "metadata": {},
   "outputs": [],
   "source": []
  },
  {
   "cell_type": "code",
   "execution_count": null,
   "id": "d469e877-7f07-4de0-b8be-f07452691da8",
   "metadata": {},
   "outputs": [],
   "source": []
  },
  {
   "cell_type": "code",
   "execution_count": null,
   "id": "3542f879-7399-494e-a412-e996b1d73b5a",
   "metadata": {},
   "outputs": [],
   "source": []
  },
  {
   "cell_type": "code",
   "execution_count": null,
   "id": "1d3d8b37-a1fe-48d5-9fd6-cf0715d9b024",
   "metadata": {},
   "outputs": [],
   "source": []
  },
  {
   "cell_type": "code",
   "execution_count": null,
   "id": "f67ad4f0-ba41-42cd-93f4-a3a5b0f24c12",
   "metadata": {},
   "outputs": [],
   "source": []
  },
  {
   "cell_type": "code",
   "execution_count": null,
   "id": "52911dfc-0495-461c-b992-1c718f6f23d5",
   "metadata": {},
   "outputs": [],
   "source": []
  },
  {
   "cell_type": "code",
   "execution_count": null,
   "id": "de94bf7c-2b2d-44e6-80e1-89ae1d568d62",
   "metadata": {},
   "outputs": [],
   "source": []
  },
  {
   "cell_type": "code",
   "execution_count": null,
   "id": "fad10878-4891-4a77-8eb4-a0a51dcae7a1",
   "metadata": {},
   "outputs": [],
   "source": []
  },
  {
   "cell_type": "code",
   "execution_count": null,
   "id": "0be3609a-4ae9-40eb-8c89-231e4011cf01",
   "metadata": {},
   "outputs": [],
   "source": []
  },
  {
   "cell_type": "code",
   "execution_count": null,
   "id": "1682d08c-23b5-41b2-a023-ac47f4b05f7c",
   "metadata": {},
   "outputs": [],
   "source": []
  },
  {
   "cell_type": "code",
   "execution_count": null,
   "id": "5c696dc9-eff6-41bf-a052-ca3ed0c5d343",
   "metadata": {},
   "outputs": [],
   "source": []
  },
  {
   "cell_type": "code",
   "execution_count": null,
   "id": "7512dae7-14dc-4abb-9677-2162a1b31a1e",
   "metadata": {},
   "outputs": [],
   "source": []
  },
  {
   "cell_type": "code",
   "execution_count": null,
   "id": "9ab872ed-47ce-4738-b96a-3f7d75357f3a",
   "metadata": {},
   "outputs": [],
   "source": []
  },
  {
   "cell_type": "code",
   "execution_count": null,
   "id": "55562284-5251-405f-8d46-8633ac09ba10",
   "metadata": {},
   "outputs": [],
   "source": []
  },
  {
   "cell_type": "code",
   "execution_count": null,
   "id": "99d023c4-84a5-4a0d-839f-a71954cefec4",
   "metadata": {},
   "outputs": [],
   "source": []
  },
  {
   "cell_type": "code",
   "execution_count": null,
   "id": "ba9a46cd-08dd-4181-ba03-5cefc34ce018",
   "metadata": {},
   "outputs": [],
   "source": []
  },
  {
   "cell_type": "code",
   "execution_count": null,
   "id": "d5f32017-f254-456a-805d-d1fe2b65e950",
   "metadata": {},
   "outputs": [],
   "source": []
  },
  {
   "cell_type": "code",
   "execution_count": null,
   "id": "2a9b5518-e832-4eb5-8abb-5b185a90eef1",
   "metadata": {},
   "outputs": [],
   "source": []
  },
  {
   "cell_type": "code",
   "execution_count": null,
   "id": "4d6be733-76c6-47e0-b42d-af0bb67db5ec",
   "metadata": {},
   "outputs": [],
   "source": []
  }
 ],
 "metadata": {
  "kernelspec": {
   "display_name": "Python [conda env:base] *",
   "language": "python",
   "name": "conda-base-py"
  },
  "language_info": {
   "codemirror_mode": {
    "name": "ipython",
    "version": 3
   },
   "file_extension": ".py",
   "mimetype": "text/x-python",
   "name": "python",
   "nbconvert_exporter": "python",
   "pygments_lexer": "ipython3",
   "version": "3.12.7"
  }
 },
 "nbformat": 4,
 "nbformat_minor": 5
}

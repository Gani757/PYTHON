{
 "cells": [
  {
   "cell_type": "code",
   "execution_count": 1,
   "id": "0a44e825-b2a6-4361-9be9-412af2b04a52",
   "metadata": {},
   "outputs": [
    {
     "name": "stdout",
     "output_type": "stream",
     "text": [
      "hello world\n"
     ]
    }
   ],
   "source": [
    "print(\"hello world\")"
   ]
  },
  {
   "cell_type": "markdown",
   "id": "aceca5ab-bece-4ba7-8d5c-34588ec9b974",
   "metadata": {},
   "source": [
    "# Check the datatype\n",
    "syntax is ***type()***"
   ]
  },
  {
   "cell_type": "code",
   "execution_count": null,
   "id": "9626b9f0-dbdf-4bf5-9089-aae4962ee053",
   "metadata": {},
   "outputs": [],
   "source": []
  },
  {
   "cell_type": "code",
   "execution_count": 8,
   "id": "384f7698-7137-4070-bc4e-0c7a63380ff0",
   "metadata": {},
   "outputs": [
    {
     "data": {
      "text/plain": [
       "int"
      ]
     },
     "execution_count": 8,
     "metadata": {},
     "output_type": "execute_result"
    }
   ],
   "source": [
    "a = 12\n",
    "type(a)"
   ]
  },
  {
   "cell_type": "markdown",
   "id": "d5510ca9-dbd9-4be5-a1bc-5cf1777b64eb",
   "metadata": {},
   "source": [
    "# type casting : converting from 1 datatype to another"
   ]
  },
  {
   "cell_type": "code",
   "execution_count": 11,
   "id": "39d1242f-06af-41d1-a4c3-0a96bbe0c28f",
   "metadata": {},
   "outputs": [
    {
     "data": {
      "text/plain": [
       "18"
      ]
     },
     "execution_count": 11,
     "metadata": {},
     "output_type": "execute_result"
    }
   ],
   "source": [
    "int (18)\n"
   ]
  },
  {
   "cell_type": "code",
   "execution_count": 71,
   "id": "72a5ce30-e3ee-4c99-b65c-b0646567fcc7",
   "metadata": {},
   "outputs": [
    {
     "data": {
      "text/plain": [
       "18"
      ]
     },
     "execution_count": 71,
     "metadata": {},
     "output_type": "execute_result"
    }
   ],
   "source": [
    "s= 18.0\n",
    "int(s)"
   ]
  },
  {
   "cell_type": "code",
   "execution_count": 13,
   "id": "c1765770-e21f-40c9-b487-f01746c5e08f",
   "metadata": {},
   "outputs": [
    {
     "data": {
      "text/plain": [
       "14"
      ]
     },
     "execution_count": 13,
     "metadata": {},
     "output_type": "execute_result"
    }
   ],
   "source": [
    "round(13.5)"
   ]
  },
  {
   "cell_type": "markdown",
   "id": "ebef0fa4-077f-4b4b-8013-1a37674435cb",
   "metadata": {},
   "source": [
    "# length function : to check no of characters \n",
    "it only gives string output \n",
    "syntax is ***len()***"
   ]
  },
  {
   "cell_type": "code",
   "execution_count": 18,
   "id": "8ed1d132-880f-4dce-b5df-5e1af387869e",
   "metadata": {},
   "outputs": [
    {
     "data": {
      "text/plain": [
       "4"
      ]
     },
     "execution_count": 18,
     "metadata": {},
     "output_type": "execute_result"
    }
   ],
   "source": [
    "a = \"gani\"\n",
    "len(a)"
   ]
  },
  {
   "cell_type": "code",
   "execution_count": 36,
   "id": "0e85b96a-3ec9-4fec-9bda-bbff2b9c800f",
   "metadata": {},
   "outputs": [
    {
     "ename": "TypeError",
     "evalue": "object of type 'int' has no len()",
     "output_type": "error",
     "traceback": [
      "\u001b[1;31m---------------------------------------------------------------------------\u001b[0m",
      "\u001b[1;31mTypeError\u001b[0m                                 Traceback (most recent call last)",
      "Cell \u001b[1;32mIn[36], line 2\u001b[0m\n\u001b[0;32m      1\u001b[0m x\u001b[38;5;241m=\u001b[39m\u001b[38;5;241m867\u001b[39m\n\u001b[1;32m----> 2\u001b[0m \u001b[38;5;28mlen\u001b[39m(x)\n",
      "\u001b[1;31mTypeError\u001b[0m: object of type 'int' has no len()"
     ]
    }
   ],
   "source": [
    "x=867\n",
    "len(x)"
   ]
  },
  {
   "cell_type": "code",
   "execution_count": 30,
   "id": "3534fa84-984b-4e70-a52f-9cd24ab96850",
   "metadata": {},
   "outputs": [
    {
     "data": {
      "text/plain": [
       "4"
      ]
     },
     "execution_count": 30,
     "metadata": {},
     "output_type": "execute_result"
    }
   ],
   "source": [
    "x=\"3233\"\n",
    "len(x)"
   ]
  },
  {
   "cell_type": "markdown",
   "id": "865490e9-cdd0-4ef6-9e07-ce4872667af0",
   "metadata": {},
   "source": [
    "# ***str to int ***"
   ]
  },
  {
   "cell_type": "code",
   "execution_count": 38,
   "id": "5755b574-d73e-4f85-a654-bcce71519976",
   "metadata": {},
   "outputs": [
    {
     "data": {
      "text/plain": [
       "23"
      ]
     },
     "execution_count": 38,
     "metadata": {},
     "output_type": "execute_result"
    }
   ],
   "source": [
    "a =\"23\"\n",
    "int(a)"
   ]
  },
  {
   "cell_type": "code",
   "execution_count": 67,
   "id": "ac8a4b8e-22b7-447d-ab9b-eb694eb11259",
   "metadata": {},
   "outputs": [
    {
     "data": {
      "text/plain": [
       "23"
      ]
     },
     "execution_count": 67,
     "metadata": {},
     "output_type": "execute_result"
    }
   ],
   "source": [
    "a =\"23.0\"\n",
    "int(float(a))"
   ]
  },
  {
   "cell_type": "code",
   "execution_count": 69,
   "id": "9713c07e-8c98-41a7-b927-4d677c313c69",
   "metadata": {},
   "outputs": [
    {
     "data": {
      "text/plain": [
       "True"
      ]
     },
     "execution_count": 69,
     "metadata": {},
     "output_type": "execute_result"
    }
   ],
   "source": [
    "a =\"23.0\"\n",
    "bool(int(float(a)))"
   ]
  },
  {
   "cell_type": "markdown",
   "id": "a2b13a6d-94c3-4ef0-b8d3-f97a4702a556",
   "metadata": {},
   "source": [
    "# str to int\n",
    "value stored in tha variable is float and converted to int \n",
    "The output is a name error as the value in the variable is not int type  "
   ]
  },
  {
   "cell_type": "code",
   "execution_count": 51,
   "id": "2a53afcb-bfb3-4c16-a330-687e65bfab10",
   "metadata": {},
   "outputs": [
    {
     "ename": "ValueError",
     "evalue": "invalid literal for int() with base 10: '23.5'",
     "output_type": "error",
     "traceback": [
      "\u001b[1;31m---------------------------------------------------------------------------\u001b[0m",
      "\u001b[1;31mValueError\u001b[0m                                Traceback (most recent call last)",
      "Cell \u001b[1;32mIn[51], line 2\u001b[0m\n\u001b[0;32m      1\u001b[0m a \u001b[38;5;241m=\u001b[39m\u001b[38;5;124m\"\u001b[39m\u001b[38;5;124m23.5\u001b[39m\u001b[38;5;124m\"\u001b[39m\n\u001b[1;32m----> 2\u001b[0m \u001b[38;5;28mint\u001b[39m(a)\n",
      "\u001b[1;31mValueError\u001b[0m: invalid literal for int() with base 10: '23.5'"
     ]
    }
   ],
   "source": [
    "a =\"23.5\"\n",
    "int(a)"
   ]
  },
  {
   "cell_type": "markdown",
   "id": "13af3c8b-a50b-4f6a-a018-9d4f83db2f5f",
   "metadata": {},
   "source": [
    "# boolean returns only true or false syntax is bool()\n",
    "the op is true if the value is not zero and \"\"(without space in te quotes)\n",
    "the op is false if the value is zero and \"\"(without space in te quotes)"
   ]
  },
  {
   "cell_type": "code",
   "execution_count": 54,
   "id": "06a04b9d-eb50-4c26-a7f0-833f129556dc",
   "metadata": {},
   "outputs": [
    {
     "data": {
      "text/plain": [
       "True"
      ]
     },
     "execution_count": 54,
     "metadata": {},
     "output_type": "execute_result"
    }
   ],
   "source": [
    "a =23\n",
    "bool(a)"
   ]
  },
  {
   "cell_type": "code",
   "execution_count": 56,
   "id": "b2887ed1-c9a5-4f10-930d-542f1d8b9d7a",
   "metadata": {},
   "outputs": [
    {
     "data": {
      "text/plain": [
       "False"
      ]
     },
     "execution_count": 56,
     "metadata": {},
     "output_type": "execute_result"
    }
   ],
   "source": [
    "a =0\n",
    "bool(a)"
   ]
  },
  {
   "cell_type": "code",
   "execution_count": 62,
   "id": "b5c9080f-094b-4fad-ad1c-2c10b5ba6f6c",
   "metadata": {},
   "outputs": [
    {
     "data": {
      "text/plain": [
       "False"
      ]
     },
     "execution_count": 62,
     "metadata": {},
     "output_type": "execute_result"
    }
   ],
   "source": [
    "a=\"\"\n",
    "bool(a)"
   ]
  },
  {
   "cell_type": "code",
   "execution_count": 60,
   "id": "c614c272-7174-4bdb-a1fd-decd80dd3ed1",
   "metadata": {},
   "outputs": [
    {
     "data": {
      "text/plain": [
       "True"
      ]
     },
     "execution_count": 60,
     "metadata": {},
     "output_type": "execute_result"
    }
   ],
   "source": [
    "x =\"Gani\"\n",
    "bool(a)"
   ]
  },
  {
   "cell_type": "markdown",
   "id": "1f99df3d-dfe0-4e99-a5fe-46d46a53845b",
   "metadata": {},
   "source": [
    "# input function >>>>\n",
    "syntax is ***input()***"
   ]
  },
  {
   "cell_type": "code",
   "execution_count": 65,
   "id": "8a8d2805-c4cf-44e5-8473-a21488d4bf5c",
   "metadata": {},
   "outputs": [
    {
     "name": "stdin",
     "output_type": "stream",
     "text": [
      "enter the name : gani\n"
     ]
    },
    {
     "name": "stdout",
     "output_type": "stream",
     "text": [
      "hi gani\n"
     ]
    }
   ],
   "source": [
    "a = input(\"enter the name :\")\n",
    "print (\"hi\",a)"
   ]
  },
  {
   "cell_type": "markdown",
   "id": "a8dac64e-6695-4428-bfbe-c0e4b96928e9",
   "metadata": {},
   "source": [
    "use while loop or for loop \n",
    "input user's mobile number and return the sum of  the  digits\n",
    "\n",
    "*******eval() is used for not mentioning the input, either int or float\n"
   ]
  },
  {
   "cell_type": "code",
   "execution_count": 1,
   "id": "321331af-ec62-4f05-bb1c-52a462281d30",
   "metadata": {},
   "outputs": [
    {
     "name": "stdin",
     "output_type": "stream",
     "text": [
      "enter the 10 digit mobile num 2\n"
     ]
    },
    {
     "name": "stdout",
     "output_type": "stream",
     "text": [
      "[2]\n"
     ]
    },
    {
     "name": "stdin",
     "output_type": "stream",
     "text": [
      "enter the 10 digit mobile num 2'\n"
     ]
    },
    {
     "ename": "SyntaxError",
     "evalue": "unterminated string literal (detected at line 1) (<string>, line 1)",
     "output_type": "error",
     "traceback": [
      "Traceback \u001b[1;36m(most recent call last)\u001b[0m:\n",
      "\u001b[0m  File \u001b[0;32m~\\anaconda3\\Lib\\site-packages\\IPython\\core\\interactiveshell.py:3577\u001b[0m in \u001b[0;35mrun_code\u001b[0m\n    exec(code_obj, self.user_global_ns, self.user_ns)\u001b[0m\n",
      "\u001b[1;36m  Cell \u001b[1;32mIn[1], line 4\u001b[1;36m\n\u001b[1;33m    n = eval(input(\"enter the 10 digit mobile num\"))\u001b[1;36m\n",
      "\u001b[1;36m  File \u001b[1;32m<string>:1\u001b[1;36m\u001b[0m\n\u001b[1;33m    2'\u001b[0m\n\u001b[1;37m     ^\u001b[0m\n\u001b[1;31mSyntaxError\u001b[0m\u001b[1;31m:\u001b[0m unterminated string literal (detected at line 1)\n"
     ]
    }
   ],
   "source": [
    "x=1\n",
    "s=[]\n",
    "while x<=4:\n",
    "    n = eval(input(\"enter the 10 digit mobile num\"))\n",
    "    s.append(n)\n",
    "    print(s)\n",
    "    x=x+1\n",
    "s.sort()\n",
    "print(s[-1])"
   ]
  },
  {
   "cell_type": "code",
   "execution_count": 3,
   "id": "f2ab23b2-e0e9-4b42-acd0-b5a3eb050e83",
   "metadata": {},
   "outputs": [
    {
     "name": "stdin",
     "output_type": "stream",
     "text": [
      "enter the 10 digits num 7093299525\n"
     ]
    },
    {
     "name": "stdout",
     "output_type": "stream",
     "text": [
      "51\n"
     ]
    }
   ],
   "source": [
    "n = input(\"enter the 10 digits num\")\n",
    "x=0\n",
    "s=0\n",
    "while x < len (n):\n",
    "    s= s + int(n[x])\n",
    "    x=x+1\n",
    "print(s)\n",
    "\n",
    "\n",
    "# to get the sum of digits of sum\n",
    "fs=0      \n",
    "t=s\n",
    "while t>0:\n",
    "    fs=fs+t%10\n",
    "    t=t//10\n",
    "print(fs)\n",
    "\n"
   ]
  },
  {
   "cell_type": "code",
   "execution_count": 3,
   "id": "24a1689f-f558-4fb8-b9bc-d56e60f4d10f",
   "metadata": {},
   "outputs": [
    {
     "name": "stdin",
     "output_type": "stream",
     "text": [
      "enter the 10 digits num 7093299525\n"
     ]
    },
    {
     "name": "stdout",
     "output_type": "stream",
     "text": [
      "51\n"
     ]
    }
   ],
   "source": [
    "n = input(\"Enter a 10-digit number: \")\n",
    "\n",
    "# Step 1: Validate the input\n",
    "while not (n.isdigit() and len(n) == 10):\n",
    "    n = input(\"Invalid input. Please enter a 10-digit number: \")\n",
    "\n",
    "# Step 2: Initialize variables\n",
    "x = 0\n",
    "s = 0\n",
    "\n",
    "# Step 3: Loop through each digit and add it to the sum\n",
    "while x < len(n):\n",
    "    digit = int(n[x])  # Get the digit at index x\n",
    "    s = s + digit      # Add it to the sum\n",
    "    x = x + 1          # Move to the next digit\n",
    "\n",
    "# Step 4: Print the result\n",
    "print(\"Sum of digits:\", s)\n",
    "\n"
   ]
  },
  {
   "cell_type": "code",
   "execution_count": 9,
   "id": "4211b408-95a4-4b99-bf93-6a18ad90f497",
   "metadata": {},
   "outputs": [
    {
     "data": {
      "text/plain": [
       "'5259923907'"
      ]
     },
     "execution_count": 9,
     "metadata": {},
     "output_type": "execute_result"
    }
   ],
   "source": [
    "n=  \"7093299525\" #reverse the numbers\n",
    "n[::-1]"
   ]
  },
  {
   "cell_type": "code",
   "execution_count": 25,
   "id": "01639ef2-a04a-4c19-8e65-9ceeae30955e",
   "metadata": {},
   "outputs": [
    {
     "name": "stdin",
     "output_type": "stream",
     "text": [
      "Enter a 10-digit number:  2344523424\n"
     ]
    },
    {
     "name": "stdout",
     "output_type": "stream",
     "text": [
      "4243254432\n"
     ]
    }
   ],
   "source": [
    "n=  int(input(\"Enter a 10-digit number: \")) #reverse the numbers\n",
    "s =0\n",
    "\n",
    "while n>0:\n",
    "    d= n%10   # get LAST digit\n",
    "    s= s*10+d ## add digit to reversed number \n",
    "    n=n//10    # remove last digit from original number\n",
    " \n",
    "print(s)\n",
    "\n",
    "    \n"
   ]
  },
  {
   "cell_type": "code",
   "execution_count": 29,
   "id": "86a49974-ebe6-4c8d-93ea-9a6c2ad9ba0b",
   "metadata": {},
   "outputs": [
    {
     "name": "stdin",
     "output_type": "stream",
     "text": [
      "enter the 10 digit  7093299585\n"
     ]
    },
    {
     "ename": "TypeError",
     "evalue": "'>' not supported between instances of 'str' and 'int'",
     "output_type": "error",
     "traceback": [
      "\u001b[1;31m---------------------------------------------------------------------------\u001b[0m",
      "\u001b[1;31mTypeError\u001b[0m                                 Traceback (most recent call last)",
      "Cell \u001b[1;32mIn[29], line 4\u001b[0m\n\u001b[0;32m      1\u001b[0m n \u001b[38;5;241m=\u001b[39m\u001b[38;5;28minput\u001b[39m(\u001b[38;5;124m\"\u001b[39m\u001b[38;5;124menter the 10 digit \u001b[39m\u001b[38;5;124m\"\u001b[39m)\n\u001b[0;32m      2\u001b[0m s\u001b[38;5;241m=\u001b[39m\u001b[38;5;241m0\u001b[39m\n\u001b[1;32m----> 4\u001b[0m \u001b[38;5;28;01mwhile\u001b[39;00m n\u001b[38;5;241m>\u001b[39m\u001b[38;5;241m0\u001b[39m:\n\u001b[0;32m      5\u001b[0m     d\u001b[38;5;241m=\u001b[39mn\u001b[38;5;241m%\u001b[39m\u001b[38;5;241m10\u001b[39m\n\u001b[0;32m      6\u001b[0m     s\u001b[38;5;241m=\u001b[39ms\u001b[38;5;241m*\u001b[39m\u001b[38;5;241m10\u001b[39m \u001b[38;5;241m+\u001b[39md\n",
      "\u001b[1;31mTypeError\u001b[0m: '>' not supported between instances of 'str' and 'int'"
     ]
    }
   ],
   "source": [
    "n =input(\"enter the 10 digit \")\n",
    "s=0\n",
    "\n",
    "while n>0:\n",
    "    d=n%10\n",
    "    s=s*10 +d\n",
    "    n=n//10\n",
    "print(s)"
   ]
  },
  {
   "cell_type": "code",
   "execution_count": null,
   "id": "c00f0c07-ace2-480b-a266-f695cf501abd",
   "metadata": {},
   "outputs": [],
   "source": []
  },
  {
   "cell_type": "code",
   "execution_count": null,
   "id": "0d38b376-4f7d-4f1b-8105-044da9299355",
   "metadata": {},
   "outputs": [],
   "source": []
  }
 ],
 "metadata": {
  "kernelspec": {
   "display_name": "Python [conda env:base] *",
   "language": "python",
   "name": "conda-base-py"
  },
  "language_info": {
   "codemirror_mode": {
    "name": "ipython",
    "version": 3
   },
   "file_extension": ".py",
   "mimetype": "text/x-python",
   "name": "python",
   "nbconvert_exporter": "python",
   "pygments_lexer": "ipython3",
   "version": "3.12.7"
  }
 },
 "nbformat": 4,
 "nbformat_minor": 5
}
